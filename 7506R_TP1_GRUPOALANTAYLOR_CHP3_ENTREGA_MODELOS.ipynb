{
 "cells": [
  {
   "cell_type": "markdown",
   "metadata": {},
   "source": [
    "## Importamos librerias y abrimos dataset"
   ]
  },
  {
   "cell_type": "code",
   "execution_count": 1,
   "metadata": {},
   "outputs": [
    {
     "name": "stderr",
     "output_type": "stream",
     "text": [
      "2023-11-25 16:33:38.089665: I tensorflow/tsl/cuda/cudart_stub.cc:28] Could not find cuda drivers on your machine, GPU will not be used.\n",
      "2023-11-25 16:33:38.647486: E tensorflow/compiler/xla/stream_executor/cuda/cuda_dnn.cc:9342] Unable to register cuDNN factory: Attempting to register factory for plugin cuDNN when one has already been registered\n",
      "2023-11-25 16:33:38.647511: E tensorflow/compiler/xla/stream_executor/cuda/cuda_fft.cc:609] Unable to register cuFFT factory: Attempting to register factory for plugin cuFFT when one has already been registered\n",
      "2023-11-25 16:33:38.650618: E tensorflow/compiler/xla/stream_executor/cuda/cuda_blas.cc:1518] Unable to register cuBLAS factory: Attempting to register factory for plugin cuBLAS when one has already been registered\n",
      "2023-11-25 16:33:38.944688: I tensorflow/tsl/cuda/cudart_stub.cc:28] Could not find cuda drivers on your machine, GPU will not be used.\n",
      "2023-11-25 16:33:38.947554: I tensorflow/core/platform/cpu_feature_guard.cc:182] This TensorFlow binary is optimized to use available CPU instructions in performance-critical operations.\n",
      "To enable the following instructions: AVX2 FMA, in other operations, rebuild TensorFlow with the appropriate compiler flags.\n",
      "2023-11-25 16:33:40.435603: W tensorflow/compiler/tf2tensorrt/utils/py_utils.cc:38] TF-TRT Warning: Could not find TensorRT\n"
     ]
    }
   ],
   "source": [
    "#Manipulacion de datos y funciones matemáticas\n",
    "import pandas as pd\n",
    "import numpy as np\n",
    "\n",
    "#Visualizaciones\n",
    "import seaborn as sns\n",
    "import matplotlib.pyplot as plt\n",
    "import dtreeviz\n",
    "\n",
    "#modelos y métricas\n",
    "from sklearn import tree\n",
    "from sklearn.model_selection import train_test_split\n",
    "from sklearn.metrics import precision_score, recall_score, accuracy_score,f1_score#, precision_recall_curve, roc_curve,\n",
    "from sklearn.metrics import confusion_matrix, classification_report\n",
    "from sklearn.ensemble import RandomForestClassifier\n",
    "from sklearn.impute import KNNImputer\n",
    "from sklearn.model_selection import StratifiedKFold\n",
    "from sklearn.model_selection import RandomizedSearchCV\n",
    "from sklearn.metrics import make_scorer\n",
    "\n",
    "\n",
    "#preprocesamiento\n",
    "from sklearn.preprocessing import MinMaxScaler\n",
    "\n",
    "#configuración warnings\n",
    "import warnings\n",
    "warnings.simplefilter(action='ignore', category=FutureWarning)\n",
    "warnings.simplefilter(action='ignore', category=UserWarning)\n",
    "\n",
    "#Metricas para evaluar modelos\n",
    "from sklearn import metrics\n",
    "\n",
    "from six import StringIO\n",
    "from IPython.display import Image\n",
    "from sklearn.tree import export_graphviz\n",
    "import pydotplus\n",
    "import matplotlib.pyplot as plt\n",
    "\n",
    "from sklearn.preprocessing import StandardScaler\n",
    "from sklearn.neighbors import KNeighborsClassifier\n",
    "from sklearn.svm import SVC\n",
    "from sklearn.model_selection import GridSearchCV\n",
    "\n",
    "import xgboost as xgb\n",
    "from xgboost import XGBClassifier\n",
    "\n",
    "from sklearn.ensemble import GradientBoostingClassifier\n",
    "from sklearn.linear_model import LogisticRegressionCV\n",
    "from collections import defaultdict\n",
    "\n",
    "from sklearn.ensemble import StackingClassifier\n",
    "\n",
    "from sklearn.model_selection import cross_val_score, RepeatedStratifiedKFold\n",
    "\n",
    "from sklearn.ensemble import VotingClassifier  \n",
    "from sklearn.metrics import roc_auc_score\n",
    "\n",
    "#Redes neuronales\n",
    "import tensorflow as tf\n",
    "from tensorflow import keras\n",
    "from keras.models import Sequential\n",
    "from keras.optimizers import Adam\n",
    "from sklearn.preprocessing import OneHotEncoder, StandardScaler\n",
    "\n",
    "np.random.seed(1)\n",
    "tf.random.set_seed(1)\n",
    "\n",
    "import warnings\n",
    "warnings.filterwarnings(\"ignore\", category=DeprecationWarning)\n",
    "\n",
    "data = pd.read_csv('./Datasets/dataset_modificado.csv')\n",
    "data_test = pd.read_csv('./Datasets/data_test.csv')"
   ]
  },
  {
   "cell_type": "markdown",
   "metadata": {},
   "source": [
    "## Creamos los datos para hacer tests"
   ]
  },
  {
   "cell_type": "code",
   "execution_count": 2,
   "metadata": {},
   "outputs": [],
   "source": [
    "ds_trabajo_x = data.drop(['is_canceled','id'], axis='columns', inplace=False)\n",
    "ds_trabajo_y = data['is_canceled'].copy()\n",
    "\n",
    "x_train, x_test, y_train, y_test = train_test_split(ds_trabajo_x,\n",
    "                                                    ds_trabajo_y,\n",
    "                                                    test_size=0.3, \n",
    "                                                    random_state=30)"
   ]
  },
  {
   "cell_type": "markdown",
   "metadata": {},
   "source": [
    "# Arbol de decision"
   ]
  },
  {
   "cell_type": "markdown",
   "metadata": {},
   "source": [
    "Observamos precisión"
   ]
  },
  {
   "cell_type": "code",
   "execution_count": 3,
   "metadata": {},
   "outputs": [
    {
     "name": "stdout",
     "output_type": "stream",
     "text": [
      "Accuracy: 0.8515406162464986\n",
      "Precisión: 0.8381571175428234\n",
      "Recall: 0.8691657478868063\n",
      "F1-Score: 0.8533798412316574\n"
     ]
    }
   ],
   "source": [
    "tree_model = tree.DecisionTreeClassifier(criterion=\"entropy\",\n",
    "                                         max_depth = 15,\n",
    "                                         max_features=None,\n",
    "                                         min_samples_split=14,\n",
    "                                         min_samples_leaf=2,\n",
    "                                         random_state=45)\n",
    "model = tree_model.fit(X = x_train, y = y_train)\n",
    "\n",
    "tree_predictions = model.predict(x_test)\n",
    "ds_resultados=pd.DataFrame(zip(y_test,tree_predictions),columns=['test','pred'])\n",
    "\n",
    "#Observamos accuracy del modelo\n",
    "accuracy = accuracy_score(y_test, tree_predictions)\n",
    "print(\"Accuracy:\", accuracy)\n",
    "\n",
    "#Observamos la precision del modelo\n",
    "precision = precision_score(y_test, tree_predictions)\n",
    "print(\"Precisión:\", precision)\n",
    "\n",
    "#Observamos el recall del modelo\n",
    "recall = recall_score(y_test, tree_predictions)\n",
    "print(\"Recall:\", recall)\n",
    "\n",
    "#Observamos el F1 Score de este arbol\n",
    "f1 = f1_score(y_test, tree_predictions)\n",
    "print(\"F1-Score:\", f1)"
   ]
  },
  {
   "cell_type": "markdown",
   "metadata": {},
   "source": [
    "Buscamos la mejor precisión del arbol con cross validation"
   ]
  },
  {
   "cell_type": "code",
   "execution_count": 4,
   "metadata": {},
   "outputs": [
    {
     "data": {
      "text/plain": [
       "' #Cantidad de combinaciones que quiero probar\\nn=10\\n\\nparams_grid = {\\'criterion\\': [\\'gini\\', \\'entropy\\'],\\n    \\'max_depth\\': list(range(15,30)),\\n    \\'min_samples_split\\': list(range(10,25)),\\n    \\'min_samples_leaf\\': list(range(1,5)),\\n    \\'max_features\\': [None, \"sqrt\", \"log2\"]}\\n\\nfolds=10\\nkfoldcv = StratifiedKFold(n_splits=folds)\\nbase_tree = tree.DecisionTreeClassifier()\\nscorer_fn = make_scorer(f1_score)\\n\\n#Random Search Cross Validation\\nrandomcv = RandomizedSearchCV(estimator=base_tree,\\n                              param_distributions = params_grid,\\n                              scoring=scorer_fn,\\n                              cv=kfoldcv,\\n                              n_iter=n)\\n\\nrandomcv.fit(x_train,y_train)\\n\\n#Mejores hiperparametros del arbol\\nprint(randomcv.best_params_)\\n#Mejor métrica\\nprint(randomcv.best_score_) '"
      ]
     },
     "execution_count": 4,
     "metadata": {},
     "output_type": "execute_result"
    }
   ],
   "source": [
    "#Cantidad de combinaciones que quiero probar\n",
    "n=10\n",
    "\n",
    "params_grid = {'criterion': ['gini', 'entropy'],\n",
    "    'max_depth': list(range(15,30)),\n",
    "    'min_samples_split': list(range(10,25)),\n",
    "    'min_samples_leaf': list(range(1,5)),\n",
    "    'max_features': [None, \"sqrt\", \"log2\"]}\n",
    "\n",
    "folds=10\n",
    "kfoldcv = StratifiedKFold(n_splits=folds)\n",
    "base_tree = tree.DecisionTreeClassifier()\n",
    "scorer_fn = make_scorer(f1_score)\n",
    "\n",
    "#Random Search Cross Validation\n",
    "randomcv = RandomizedSearchCV(estimator=base_tree,\n",
    "                              param_distributions = params_grid,\n",
    "                              scoring=scorer_fn,\n",
    "                              cv=kfoldcv,\n",
    "                              n_iter=n)\n",
    "\n",
    "randomcv.fit(x_train,y_train)\n",
    "\n",
    "#Mejores hiperparametros del arbol\n",
    "print(randomcv.best_params_)\n",
    "#Mejor métrica\n",
    "print(randomcv.best_score_)"
   ]
  },
  {
   "cell_type": "markdown",
   "metadata": {},
   "source": [
    "Probamos con los nuevos parametros"
   ]
  },
  {
   "cell_type": "code",
   "execution_count": 5,
   "metadata": {},
   "outputs": [
    {
     "name": "stdout",
     "output_type": "stream",
     "text": [
      "Accuracy: 0.8506881013274875\n",
      "Precisión: 0.8364557558619065\n",
      "Recall: 0.8696557638123239\n",
      "F1-Score: 0.8527327327327328\n"
     ]
    }
   ],
   "source": [
    "tree_model = tree.DecisionTreeClassifier(criterion=\"entropy\",\n",
    "                                         max_depth = 15,\n",
    "                                         max_features=None,\n",
    "                                         min_samples_split=12,\n",
    "                                         min_samples_leaf=2,\n",
    "                                         random_state=42)\n",
    "model = tree_model.fit(X = x_train, y = y_train)\n",
    "\n",
    "y_pred = model.predict(x_test)\n",
    "ds_resultados=pd.DataFrame(zip(y_test,y_pred),columns=['test','pred'])\n",
    "\n",
    "#Observamos accuracy del modelo\n",
    "accuracy = accuracy_score(y_test, y_pred)\n",
    "print(\"Accuracy:\", accuracy)\n",
    "\n",
    "#Observamos la precision del modelo\n",
    "precision = precision_score(y_test, y_pred)\n",
    "print(\"Precisión:\", precision)\n",
    "\n",
    "#Observamos el recall del modelo\n",
    "recall = recall_score(y_test, y_pred)\n",
    "print(\"Recall:\", recall)\n",
    "\n",
    "#Observamos el F1 Score de este arbol\n",
    "f1 = f1_score(y_test, y_pred)\n",
    "print(\"F1-Score:\", f1)"
   ]
  },
  {
   "cell_type": "markdown",
   "metadata": {},
   "source": [
    "Graficamos su matriz de confusion"
   ]
  },
  {
   "cell_type": "code",
   "execution_count": 6,
   "metadata": {},
   "outputs": [
    {
     "data": {
      "text/plain": [
       "Text(50.722222222222214, 0.5, 'True')"
      ]
     },
     "execution_count": 6,
     "metadata": {},
     "output_type": "execute_result"
    },
    {
     "data": {
      "image/png": "[encoded data removed]",
      "text/plain": [
       "<Figure size 640x480 with 2 Axes>"
      ]
     },
     "metadata": {},
     "output_type": "display_data"
    }
   ],
   "source": [
    "tabla=confusion_matrix(y_test, y_pred)\n",
    "\n",
    "#Grafico la matriz de confusión\n",
    "sns.heatmap(tabla,cmap='GnBu',annot=True,fmt='g')\n",
    "plt.xlabel('Predicted')\n",
    "plt.ylabel('True')"
   ]
  },
  {
   "cell_type": "markdown",
   "metadata": {},
   "source": [
    "Creamos CSV con el mejor arbol de decision"
   ]
  },
  {
   "cell_type": "code",
   "execution_count": 7,
   "metadata": {},
   "outputs": [],
   "source": [
    "tree_model = tree.DecisionTreeClassifier(criterion=\"entropy\",\n",
    "                                         max_depth = 15,\n",
    "                                         max_features=None,\n",
    "                                         min_samples_split=12,\n",
    "                                         min_samples_leaf=4,\n",
    "                                         random_state=42)\n",
    "tree_model.fit(ds_trabajo_x, ds_trabajo_y)\n",
    "y_pred = tree_model.predict(data_test.drop('id', axis = 1))\n",
    "\n",
    "resultado = pd.DataFrame()\n",
    "resultado['id'] = data_test['id']\n",
    "resultado['is_canceled'] = y_pred\n",
    "#Comento esta linea para que no crear el archivo siempre\n",
    "#resultado.to_csv('predicciones_arbol_decision_2.csv', index=False)"
   ]
  },
  {
   "cell_type": "markdown",
   "metadata": {},
   "source": [
    "# KNN"
   ]
  },
  {
   "cell_type": "code",
   "execution_count": 8,
   "metadata": {},
   "outputs": [
    {
     "name": "stdout",
     "output_type": "stream",
     "text": [
      "Accuracy: 0.7389477530142492\n",
      "Precisión: 0.7355371900826446\n",
      "Recall: 0.7413940953080975\n",
      "F1-Score: 0.738454029650418\n"
     ]
    }
   ],
   "source": [
    "knn_model = KNeighborsClassifier()\n",
    "knn_model.fit(x_train, y_train)\n",
    "\n",
    "knn_predictions = knn_model.predict(np.array(x_test))\n",
    "ds_resultados=pd.DataFrame(zip(y_test,knn_predictions),columns=['test','pred'])\n",
    "\n",
    "#Observamos accuracy del modelo\n",
    "accuracy = accuracy_score(y_test, knn_predictions)\n",
    "print(\"Accuracy:\", accuracy)\n",
    "\n",
    "#Observamos la precision del modelo\n",
    "precision = precision_score(y_test, knn_predictions)\n",
    "print(\"Precisión:\", precision)\n",
    "\n",
    "#Observamos el recall del modelo\n",
    "recall = recall_score(y_test, knn_predictions)\n",
    "print(\"Recall:\", recall)\n",
    "\n",
    "#Observamos el F1 Score de este arbol\n",
    "f1 = f1_score(y_test, knn_predictions)\n",
    "print(\"F1-Score:\", f1)"
   ]
  },
  {
   "cell_type": "markdown",
   "metadata": {},
   "source": [
    "Buscamos mejores hiperparametros "
   ]
  },
  {
   "cell_type": "code",
   "execution_count": 9,
   "metadata": {},
   "outputs": [
    {
     "data": {
      "text/plain": [
       "\" n = 5\\n\\nparams_grid = {\\n    'n_neighbors': list(range(1, 21)),  # Número de vecinos\\n    'weights': ['uniform', 'distance'],  # Pesos de los vecinos\\n    'algorithm': ['auto', 'ball_tree', 'kd_tree', 'brute'],  # Algoritmo de búsqueda\\n    'p': [1, 2]  # Parámetro de distancia (1 para Manhattan, 2 para Euclidiana)\\n}\\n\\nfolds = 10\\nkfoldcv = StratifiedKFold(n_splits=folds)\\nbase_knn = KNeighborsClassifier()\\nscorer_fn = make_scorer(f1_score)\\n\\nrandomcv = RandomizedSearchCV(\\n    estimator=base_knn,\\n    param_distributions=params_grid,\\n    scoring=scorer_fn,\\n    cv=kfoldcv,\\n    n_iter=n\\n)\\n\\nrandomcv.fit(x_train, y_train)\\n\\n#Mejores hiperparametros del arbol\\nprint(randomcv.best_params_)\\n#Mejor métrica\\nprint(randomcv.best_score_) \""
      ]
     },
     "execution_count": 9,
     "metadata": {},
     "output_type": "execute_result"
    }
   ],
   "source": [
    "n = 5\n",
    "\n",
    "params_grid = {\n",
    "    'n_neighbors': list(range(1, 21)),  # Número de vecinos\n",
    "    'weights': ['uniform', 'distance'],  # Pesos de los vecinos\n",
    "    'algorithm': ['auto', 'ball_tree', 'kd_tree', 'brute'],  # Algoritmo de búsqueda\n",
    "    'p': [1, 2]  # Parámetro de distancia (1 para Manhattan, 2 para Euclidiana)\n",
    "}\n",
    "\n",
    "folds = 10\n",
    "kfoldcv = StratifiedKFold(n_splits=folds)\n",
    "base_knn = KNeighborsClassifier()\n",
    "scorer_fn = make_scorer(f1_score)\n",
    "\n",
    "randomcv = RandomizedSearchCV(\n",
    "    estimator=base_knn,\n",
    "    param_distributions=params_grid,\n",
    "    scoring=scorer_fn,\n",
    "    cv=kfoldcv,\n",
    "    n_iter=n\n",
    ")\n",
    "\n",
    "randomcv.fit(x_train, y_train)\n",
    "\n",
    "#Mejores hiperparametros del arbol\n",
    "print(randomcv.best_params_)\n",
    "#Mejor métrica\n",
    "print(randomcv.best_score_)"
   ]
  },
  {
   "cell_type": "markdown",
   "metadata": {},
   "source": [
    "KNN con \"mejores\" hiperparametros encontrados"
   ]
  },
  {
   "cell_type": "code",
   "execution_count": 10,
   "metadata": {},
   "outputs": [
    {
     "data": {
      "text/html": [
       "<style>#sk-container-id-1 {color: black;}#sk-container-id-1 pre{padding: 0;}#sk-container-id-1 div.sk-toggleable {background-color: white;}#sk-container-id-1 label.sk-toggleable__label {cursor: pointer;display: block;width: 100%;margin-bottom: 0;padding: 0.3em;box-sizing: border-box;text-align: center;}#sk-container-id-1 label.sk-toggleable__label-arrow:before {content: \"▸\";float: left;margin-right: 0.25em;color: #696969;}#sk-container-id-1 label.sk-toggleable__label-arrow:hover:before {color: black;}#sk-container-id-1 div.sk-estimator:hover label.sk-toggleable__label-arrow:before {color: black;}#sk-container-id-1 div.sk-toggleable__content {max-height: 0;max-width: 0;overflow: hidden;text-align: left;background-color: #f0f8ff;}#sk-container-id-1 div.sk-toggleable__content pre {margin: 0.2em;color: black;border-radius: 0.25em;background-color: #f0f8ff;}#sk-container-id-1 input.sk-toggleable__control:checked~div.sk-toggleable__content {max-height: 200px;max-width: 100%;overflow: auto;}#sk-container-id-1 input.sk-toggleable__control:checked~label.sk-toggleable__label-arrow:before {content: \"▾\";}#sk-container-id-1 div.sk-estimator input.sk-toggleable__control:checked~label.sk-toggleable__label {background-color: #d4ebff;}#sk-container-id-1 div.sk-label input.sk-toggleable__control:checked~label.sk-toggleable__label {background-color: #d4ebff;}#sk-container-id-1 input.sk-hidden--visually {border: 0;clip: rect(1px 1px 1px 1px);clip: rect(1px, 1px, 1px, 1px);height: 1px;margin: -1px;overflow: hidden;padding: 0;position: absolute;width: 1px;}#sk-container-id-1 div.sk-estimator {font-family: monospace;background-color: #f0f8ff;border: 1px dotted black;border-radius: 0.25em;box-sizing: border-box;margin-bottom: 0.5em;}#sk-container-id-1 div.sk-estimator:hover {background-color: #d4ebff;}#sk-container-id-1 div.sk-parallel-item::after {content: \"\";width: 100%;border-bottom: 1px solid gray;flex-grow: 1;}#sk-container-id-1 div.sk-label:hover label.sk-toggleable__label {background-color: #d4ebff;}#sk-container-id-1 div.sk-serial::before {content: \"\";position: absolute;border-left: 1px solid gray;box-sizing: border-box;top: 0;bottom: 0;left: 50%;z-index: 0;}#sk-container-id-1 div.sk-serial {display: flex;flex-direction: column;align-items: center;background-color: white;padding-right: 0.2em;padding-left: 0.2em;position: relative;}#sk-container-id-1 div.sk-item {position: relative;z-index: 1;}#sk-container-id-1 div.sk-parallel {display: flex;align-items: stretch;justify-content: center;background-color: white;position: relative;}#sk-container-id-1 div.sk-item::before, #sk-container-id-1 div.sk-parallel-item::before {content: \"\";position: absolute;border-left: 1px solid gray;box-sizing: border-box;top: 0;bottom: 0;left: 50%;z-index: -1;}#sk-container-id-1 div.sk-parallel-item {display: flex;flex-direction: column;z-index: 1;position: relative;background-color: white;}#sk-container-id-1 div.sk-parallel-item:first-child::after {align-self: flex-end;width: 50%;}#sk-container-id-1 div.sk-parallel-item:last-child::after {align-self: flex-start;width: 50%;}#sk-container-id-1 div.sk-parallel-item:only-child::after {width: 0;}#sk-container-id-1 div.sk-dashed-wrapped {border: 1px dashed gray;margin: 0 0.4em 0.5em 0.4em;box-sizing: border-box;padding-bottom: 0.4em;background-color: white;}#sk-container-id-1 div.sk-label label {font-family: monospace;font-weight: bold;display: inline-block;line-height: 1.2em;}#sk-container-id-1 div.sk-label-container {text-align: center;}#sk-container-id-1 div.sk-container {/* jupyter's `normalize.less` sets `[hidden] { display: none; }` but bootstrap.min.css set `[hidden] { display: none !important; }` so we also need the `!important` here to be able to override the default hidden behavior on the sphinx rendered scikit-learn.org. See: https://github.com/scikit-learn/scikit-learn/issues/21755 */display: inline-block !important;position: relative;}#sk-container-id-1 div.sk-text-repr-fallback {display: none;}</style><div id=\"sk-container-id-1\" class=\"sk-top-container\"><div class=\"sk-text-repr-fallback\"><pre>KNeighborsClassifier(algorithm=&#x27;ball_tree&#x27;, n_neighbors=17, p=1,\n",
       "                     weights=&#x27;distance&#x27;)</pre><b>In a Jupyter environment, please rerun this cell to show the HTML representation or trust the notebook. <br />On GitHub, the HTML representation is unable to render, please try loading this page with nbviewer.org.</b></div><div class=\"sk-container\" hidden><div class=\"sk-item\"><div class=\"sk-estimator sk-toggleable\"><input class=\"sk-toggleable__control sk-hidden--visually\" id=\"sk-estimator-id-1\" type=\"checkbox\" checked><label for=\"sk-estimator-id-1\" class=\"sk-toggleable__label sk-toggleable__label-arrow\">KNeighborsClassifier</label><div class=\"sk-toggleable__content\"><pre>KNeighborsClassifier(algorithm=&#x27;ball_tree&#x27;, n_neighbors=17, p=1,\n",
       "                     weights=&#x27;distance&#x27;)</pre></div></div></div></div></div>"
      ],
      "text/plain": [
       "KNeighborsClassifier(algorithm='ball_tree', n_neighbors=17, p=1,\n",
       "                     weights='distance')"
      ]
     },
     "execution_count": 10,
     "metadata": {},
     "output_type": "execute_result"
    }
   ],
   "source": [
    "knn_model = KNeighborsClassifier(n_neighbors=17,\n",
    "                                 weights='distance',\n",
    "                                 algorithm='ball_tree',\n",
    "                                 p=1)\n",
    "knn_model.fit(x_train, y_train)\n"
   ]
  },
  {
   "cell_type": "code",
   "execution_count": 11,
   "metadata": {},
   "outputs": [
    {
     "name": "stdout",
     "output_type": "stream",
     "text": [
      "Accuracy: 0.7910729509194983\n",
      "Precisión: 0.7750523134154848\n",
      "Recall: 0.8167340438564253\n",
      "F1-Score: 0.795347450044736\n"
     ]
    }
   ],
   "source": [
    "knn_predictions = knn_model.predict(np.array(x_test))\n",
    "ds_resultados=pd.DataFrame(zip(y_test,knn_predictions),columns=['test','pred'])\n",
    "\n",
    "#Observamos accuracy del modelo\n",
    "accuracy = accuracy_score(y_test, knn_predictions)\n",
    "print(\"Accuracy:\", accuracy)\n",
    "\n",
    "#Observamos la precision del modelo\n",
    "precision = precision_score(y_test, knn_predictions)\n",
    "print(\"Precisión:\", precision)\n",
    "\n",
    "#Observamos el recall del modelo\n",
    "recall = recall_score(y_test, knn_predictions)\n",
    "print(\"Recall:\", recall)\n",
    "\n",
    "#Observamos el F1 Score de este arbol\n",
    "f1 = f1_score(y_test, knn_predictions)\n",
    "print(\"F1-Score:\", f1)"
   ]
  },
  {
   "cell_type": "code",
   "execution_count": 12,
   "metadata": {},
   "outputs": [
    {
     "data": {
      "text/plain": [
       "Text(50.722222222222214, 0.5, 'True')"
      ]
     },
     "execution_count": 12,
     "metadata": {},
     "output_type": "execute_result"
    },
    {
     "data": {
      "image/png": "[encoded data removed]",
      "text/plain": [
       "<Figure size 640x480 with 2 Axes>"
      ]
     },
     "metadata": {},
     "output_type": "display_data"
    }
   ],
   "source": [
    "tabla=confusion_matrix(y_test, knn_predictions)\n",
    "\n",
    "#Grafico la matriz de confusión\n",
    "sns.heatmap(tabla,cmap='GnBu',annot=True,fmt='g')\n",
    "plt.xlabel('Predicted')\n",
    "plt.ylabel('True')"
   ]
  },
  {
   "cell_type": "code",
   "execution_count": 3,
   "metadata": {},
   "outputs": [],
   "source": [
    "knn_model = KNeighborsClassifier(n_neighbors=17,\n",
    "                                 weights='distance',\n",
    "                                 algorithm='ball_tree',\n",
    "                                 p=1)\n",
    "knn_model.fit(ds_trabajo_x, ds_trabajo_y)\n",
    "y_pred = knn_model.predict(data_test.drop('id', axis = 1))\n",
    "\n",
    "resultado = pd.DataFrame()\n",
    "resultado['id'] = data_test['id']\n",
    "resultado['is_canceled'] = y_pred\n",
    "#Comento esta linea para que no crear el archivo siempre\n",
    "#resultado.to_csv('predicciones.csv', index=False)"
   ]
  },
  {
   "cell_type": "markdown",
   "metadata": {},
   "source": [
    "# Support Vector Machine"
   ]
  },
  {
   "cell_type": "code",
   "execution_count": 3,
   "metadata": {},
   "outputs": [
    {
     "name": "stdout",
     "output_type": "stream",
     "text": [
      "Accuracy: 0.7983802216538789\n",
      "Precisión: 0.8232102686251158\n",
      "Recall: 0.759028794533919\n",
      "F1-Score: 0.7898178124801626\n"
     ]
    }
   ],
   "source": [
    "svm_classifier = SVC(kernel='linear',\n",
    "                    C=0.1,\n",
    "                    gamma='scale',\n",
    "                    degree=3,\n",
    "                    class_weight=None)\n",
    "\n",
    "svm_classifier.fit(x_train, y_train)\n",
    "\n",
    "svm_predictions = svm_classifier.predict(np.array(x_test))\n",
    "ds_resultados=pd.DataFrame(zip(y_test,svm_predictions),columns=['test','pred'])\n",
    "\n",
    "#Observamos accuracy del modelo\n",
    "accuracy = accuracy_score(y_test, svm_predictions)\n",
    "print(\"Accuracy:\", accuracy)\n",
    "\n",
    "#Observamos la precision del modelo\n",
    "precision = precision_score(y_test, svm_predictions)\n",
    "print(\"Precisión:\", precision)\n",
    "\n",
    "#Observamos el recall del modelo\n",
    "recall = recall_score(y_test, svm_predictions)\n",
    "print(\"Recall:\", recall)\n",
    "\n",
    "#Observamos el F1 Score de este arbol\n",
    "f1 = f1_score(y_test, svm_predictions)\n",
    "print(\"F1-Score:\", f1)"
   ]
  },
  {
   "cell_type": "markdown",
   "metadata": {},
   "source": [
    "#### Busqueda exhaustiva de hiperparametros"
   ]
  },
  {
   "cell_type": "code",
   "execution_count": 14,
   "metadata": {},
   "outputs": [
    {
     "data": {
      "text/plain": [
       "' param_grid = {\\n    \\'C\\': [0.1, 1, 10],\\n    \\'kernel\\': [\\'linear\\', \\'rbf\\', \\'poly\\'],\\n    \\'gamma\\': [0.1, 1, \\'scale\\', \\'auto\\'],\\n    \\'degree\\': [2, 3, 4],\\n    \\'coef0\\': [0, 1],\\n    \\'class_weight\\': [None, \\'balanced\\']\\n}\\n\\n# Crear el clasificador SVM\\nsvm_classifier = SVC()\\n\\n# Realizar la búsqueda en cuadrícula con validación cruzada\\ngrid_search = GridSearchCV(svm_classifier, param_grid, cv=5, scoring=\\'accuracy\\')\\ngrid_search.fit(x_train, y_train)\\n\\n# Mostrar los mejores hiperparámetros\\nprint(\"Mejores hiperparámetros encontrados:\")\\nprint(grid_search.best_params_)\\n\\n# Mostrar el mejor puntaje\\nprint(\"Mejor puntaje de validación cruzada:\", grid_search.best_score_) '"
      ]
     },
     "execution_count": 14,
     "metadata": {},
     "output_type": "execute_result"
    }
   ],
   "source": [
    "param_grid = {\n",
    "    'C': [0.1, 1, 10, 15, 20],\n",
    "    'kernel': ['linear', 'rbf', 'poly'],\n",
    "    'gamma': [0.1, 1, 'scale', 'auto'],\n",
    "    'degree': [2, 3, 4],\n",
    "    'coef0': [0, 1],\n",
    "    'class_weight': [None, 'balanced']\n",
    "}\n",
    "\n",
    "# Crear el clasificador SVM\n",
    "svm_classifier = SVC()\n",
    "\n",
    "# Realizar la búsqueda en cuadrícula con validación cruzada\n",
    "grid_search = GridSearchCV(svm_classifier, param_grid, cv=5, scoring='accuracy')\n",
    "grid_search.fit(x_train, y_train)\n",
    "\n",
    "# Mostrar los mejores hiperparámetros\n",
    "print(\"Mejores hiperparámetros encontrados:\")\n",
    "print(grid_search.best_params_)\n",
    "\n",
    "# Mostrar el mejor puntaje\n",
    "print(\"Mejor puntaje de validación cruzada:\", grid_search.best_score_)"
   ]
  },
  {
   "cell_type": "markdown",
   "metadata": {},
   "source": [
    "Creamos SVM con \"mejores\" hiperparametros encontrados"
   ]
  },
  {
   "cell_type": "code",
   "execution_count": 18,
   "metadata": {},
   "outputs": [
    {
     "data": {
      "text/html": [
       "<style>#sk-container-id-7 {color: black;}#sk-container-id-7 pre{padding: 0;}#sk-container-id-7 div.sk-toggleable {background-color: white;}#sk-container-id-7 label.sk-toggleable__label {cursor: pointer;display: block;width: 100%;margin-bottom: 0;padding: 0.3em;box-sizing: border-box;text-align: center;}#sk-container-id-7 label.sk-toggleable__label-arrow:before {content: \"▸\";float: left;margin-right: 0.25em;color: #696969;}#sk-container-id-7 label.sk-toggleable__label-arrow:hover:before {color: black;}#sk-container-id-7 div.sk-estimator:hover label.sk-toggleable__label-arrow:before {color: black;}#sk-container-id-7 div.sk-toggleable__content {max-height: 0;max-width: 0;overflow: hidden;text-align: left;background-color: #f0f8ff;}#sk-container-id-7 div.sk-toggleable__content pre {margin: 0.2em;color: black;border-radius: 0.25em;background-color: #f0f8ff;}#sk-container-id-7 input.sk-toggleable__control:checked~div.sk-toggleable__content {max-height: 200px;max-width: 100%;overflow: auto;}#sk-container-id-7 input.sk-toggleable__control:checked~label.sk-toggleable__label-arrow:before {content: \"▾\";}#sk-container-id-7 div.sk-estimator input.sk-toggleable__control:checked~label.sk-toggleable__label {background-color: #d4ebff;}#sk-container-id-7 div.sk-label input.sk-toggleable__control:checked~label.sk-toggleable__label {background-color: #d4ebff;}#sk-container-id-7 input.sk-hidden--visually {border: 0;clip: rect(1px 1px 1px 1px);clip: rect(1px, 1px, 1px, 1px);height: 1px;margin: -1px;overflow: hidden;padding: 0;position: absolute;width: 1px;}#sk-container-id-7 div.sk-estimator {font-family: monospace;background-color: #f0f8ff;border: 1px dotted black;border-radius: 0.25em;box-sizing: border-box;margin-bottom: 0.5em;}#sk-container-id-7 div.sk-estimator:hover {background-color: #d4ebff;}#sk-container-id-7 div.sk-parallel-item::after {content: \"\";width: 100%;border-bottom: 1px solid gray;flex-grow: 1;}#sk-container-id-7 div.sk-label:hover label.sk-toggleable__label {background-color: #d4ebff;}#sk-container-id-7 div.sk-serial::before {content: \"\";position: absolute;border-left: 1px solid gray;box-sizing: border-box;top: 0;bottom: 0;left: 50%;z-index: 0;}#sk-container-id-7 div.sk-serial {display: flex;flex-direction: column;align-items: center;background-color: white;padding-right: 0.2em;padding-left: 0.2em;position: relative;}#sk-container-id-7 div.sk-item {position: relative;z-index: 1;}#sk-container-id-7 div.sk-parallel {display: flex;align-items: stretch;justify-content: center;background-color: white;position: relative;}#sk-container-id-7 div.sk-item::before, #sk-container-id-7 div.sk-parallel-item::before {content: \"\";position: absolute;border-left: 1px solid gray;box-sizing: border-box;top: 0;bottom: 0;left: 50%;z-index: -1;}#sk-container-id-7 div.sk-parallel-item {display: flex;flex-direction: column;z-index: 1;position: relative;background-color: white;}#sk-container-id-7 div.sk-parallel-item:first-child::after {align-self: flex-end;width: 50%;}#sk-container-id-7 div.sk-parallel-item:last-child::after {align-self: flex-start;width: 50%;}#sk-container-id-7 div.sk-parallel-item:only-child::after {width: 0;}#sk-container-id-7 div.sk-dashed-wrapped {border: 1px dashed gray;margin: 0 0.4em 0.5em 0.4em;box-sizing: border-box;padding-bottom: 0.4em;background-color: white;}#sk-container-id-7 div.sk-label label {font-family: monospace;font-weight: bold;display: inline-block;line-height: 1.2em;}#sk-container-id-7 div.sk-label-container {text-align: center;}#sk-container-id-7 div.sk-container {/* jupyter's `normalize.less` sets `[hidden] { display: none; }` but bootstrap.min.css set `[hidden] { display: none !important; }` so we also need the `!important` here to be able to override the default hidden behavior on the sphinx rendered scikit-learn.org. See: https://github.com/scikit-learn/scikit-learn/issues/21755 */display: inline-block !important;position: relative;}#sk-container-id-7 div.sk-text-repr-fallback {display: none;}</style><div id=\"sk-container-id-7\" class=\"sk-top-container\"><div class=\"sk-text-repr-fallback\"><pre>SVC(C=10, coef0=0, degree=2, gamma=&#x27;auto&#x27;, kernel=&#x27;linear&#x27;)</pre><b>In a Jupyter environment, please rerun this cell to show the HTML representation or trust the notebook. <br />On GitHub, the HTML representation is unable to render, please try loading this page with nbviewer.org.</b></div><div class=\"sk-container\" hidden><div class=\"sk-item\"><div class=\"sk-estimator sk-toggleable\"><input class=\"sk-toggleable__control sk-hidden--visually\" id=\"sk-estimator-id-7\" type=\"checkbox\" checked><label for=\"sk-estimator-id-7\" class=\"sk-toggleable__label sk-toggleable__label-arrow\">SVC</label><div class=\"sk-toggleable__content\"><pre>SVC(C=10, coef0=0, degree=2, gamma=&#x27;auto&#x27;, kernel=&#x27;linear&#x27;)</pre></div></div></div></div></div>"
      ],
      "text/plain": [
       "SVC(C=10, coef0=0, degree=2, gamma='auto', kernel='linear')"
      ]
     },
     "execution_count": 18,
     "metadata": {},
     "output_type": "execute_result"
    }
   ],
   "source": [
    "svm_classifier = SVC(kernel='linear',\n",
    "                    C=10,\n",
    "                    gamma=\"auto\",\n",
    "                    degree=2,\n",
    "                    coef0=0,\n",
    "                    class_weight= None\n",
    "                    )\n",
    "\n",
    "\n",
    "svm_classifier.fit(x_train, y_train)"
   ]
  },
  {
   "cell_type": "code",
   "execution_count": 19,
   "metadata": {},
   "outputs": [
    {
     "name": "stdout",
     "output_type": "stream",
     "text": [
      "Accuracy: 0.7964316161247108\n",
      "Precisión: 0.8029716568860032\n",
      "Recall: 0.7846510492923378\n",
      "F1-Score: 0.7937056464054304\n"
     ]
    }
   ],
   "source": [
    "svm_predictions = svm_classifier.predict(np.array(x_test))\n",
    "ds_resultados=pd.DataFrame(zip(y_test,svm_predictions),columns=['test','pred'])\n",
    "\n",
    "#Observamos accuracy del modelo\n",
    "accuracy = accuracy_score(y_test, svm_predictions)\n",
    "print(\"Accuracy:\", accuracy)\n",
    "\n",
    "#Observamos la precision del modelo\n",
    "precision = precision_score(y_test, svm_predictions)\n",
    "print(\"Precisión:\", precision)\n",
    "\n",
    "#Observamos el recall del modelo\n",
    "recall = recall_score(y_test, svm_predictions)\n",
    "print(\"Recall:\", recall)\n",
    "\n",
    "#Observamos el F1 Score de este arbol\n",
    "f1 = f1_score(y_test, svm_predictions)\n",
    "print(\"F1-Score:\", f1)"
   ]
  },
  {
   "cell_type": "code",
   "execution_count": 20,
   "metadata": {},
   "outputs": [
    {
     "data": {
      "text/plain": [
       "Text(50.722222222222214, 0.5, 'True')"
      ]
     },
     "execution_count": 20,
     "metadata": {},
     "output_type": "execute_result"
    },
    {
     "data": {
      "image/png": "[encoded data removed]",
      "text/plain": [
       "<Figure size 640x480 with 2 Axes>"
      ]
     },
     "metadata": {},
     "output_type": "display_data"
    }
   ],
   "source": [
    "tabla=confusion_matrix(y_test, svm_predictions)\n",
    "\n",
    "#Grafico la matriz de confusión\n",
    "sns.heatmap(tabla,cmap='GnBu',annot=True,fmt='g')\n",
    "plt.xlabel('Predicted')\n",
    "plt.ylabel('True')"
   ]
  },
  {
   "cell_type": "code",
   "execution_count": 4,
   "metadata": {},
   "outputs": [],
   "source": [
    "svm_classifier = SVC(kernel='linear',\n",
    "                    C=10,\n",
    "                    gamma=\"auto\",\n",
    "                    degree=2,\n",
    "                    coef0=0,\n",
    "                    class_weight= None\n",
    "                    )\n",
    "svm_classifier.fit(ds_trabajo_x, ds_trabajo_y)\n",
    "y_pred = svm_classifier.predict(data_test.drop('id', axis = 1))\n",
    "\n",
    "resultado = pd.DataFrame()\n",
    "resultado['id'] = data_test['id']\n",
    "resultado['is_canceled'] = y_pred\n",
    "#Comento esta linea para que no crear el archivo siempre\n",
    "#resultado.to_csv('predicciones.csv', index=False)"
   ]
  },
  {
   "cell_type": "markdown",
   "metadata": {},
   "source": [
    "# Random Forest"
   ]
  },
  {
   "cell_type": "code",
   "execution_count": 115,
   "metadata": {},
   "outputs": [
    {
     "data": {
      "text/html": [
       "<style>#sk-container-id-1 {color: black;}#sk-container-id-1 pre{padding: 0;}#sk-container-id-1 div.sk-toggleable {background-color: white;}#sk-container-id-1 label.sk-toggleable__label {cursor: pointer;display: block;width: 100%;margin-bottom: 0;padding: 0.3em;box-sizing: border-box;text-align: center;}#sk-container-id-1 label.sk-toggleable__label-arrow:before {content: \"▸\";float: left;margin-right: 0.25em;color: #696969;}#sk-container-id-1 label.sk-toggleable__label-arrow:hover:before {color: black;}#sk-container-id-1 div.sk-estimator:hover label.sk-toggleable__label-arrow:before {color: black;}#sk-container-id-1 div.sk-toggleable__content {max-height: 0;max-width: 0;overflow: hidden;text-align: left;background-color: #f0f8ff;}#sk-container-id-1 div.sk-toggleable__content pre {margin: 0.2em;color: black;border-radius: 0.25em;background-color: #f0f8ff;}#sk-container-id-1 input.sk-toggleable__control:checked~div.sk-toggleable__content {max-height: 200px;max-width: 100%;overflow: auto;}#sk-container-id-1 input.sk-toggleable__control:checked~label.sk-toggleable__label-arrow:before {content: \"▾\";}#sk-container-id-1 div.sk-estimator input.sk-toggleable__control:checked~label.sk-toggleable__label {background-color: #d4ebff;}#sk-container-id-1 div.sk-label input.sk-toggleable__control:checked~label.sk-toggleable__label {background-color: #d4ebff;}#sk-container-id-1 input.sk-hidden--visually {border: 0;clip: rect(1px 1px 1px 1px);clip: rect(1px, 1px, 1px, 1px);height: 1px;margin: -1px;overflow: hidden;padding: 0;position: absolute;width: 1px;}#sk-container-id-1 div.sk-estimator {font-family: monospace;background-color: #f0f8ff;border: 1px dotted black;border-radius: 0.25em;box-sizing: border-box;margin-bottom: 0.5em;}#sk-container-id-1 div.sk-estimator:hover {background-color: #d4ebff;}#sk-container-id-1 div.sk-parallel-item::after {content: \"\";width: 100%;border-bottom: 1px solid gray;flex-grow: 1;}#sk-container-id-1 div.sk-label:hover label.sk-toggleable__label {background-color: #d4ebff;}#sk-container-id-1 div.sk-serial::before {content: \"\";position: absolute;border-left: 1px solid gray;box-sizing: border-box;top: 0;bottom: 0;left: 50%;z-index: 0;}#sk-container-id-1 div.sk-serial {display: flex;flex-direction: column;align-items: center;background-color: white;padding-right: 0.2em;padding-left: 0.2em;position: relative;}#sk-container-id-1 div.sk-item {position: relative;z-index: 1;}#sk-container-id-1 div.sk-parallel {display: flex;align-items: stretch;justify-content: center;background-color: white;position: relative;}#sk-container-id-1 div.sk-item::before, #sk-container-id-1 div.sk-parallel-item::before {content: \"\";position: absolute;border-left: 1px solid gray;box-sizing: border-box;top: 0;bottom: 0;left: 50%;z-index: -1;}#sk-container-id-1 div.sk-parallel-item {display: flex;flex-direction: column;z-index: 1;position: relative;background-color: white;}#sk-container-id-1 div.sk-parallel-item:first-child::after {align-self: flex-end;width: 50%;}#sk-container-id-1 div.sk-parallel-item:last-child::after {align-self: flex-start;width: 50%;}#sk-container-id-1 div.sk-parallel-item:only-child::after {width: 0;}#sk-container-id-1 div.sk-dashed-wrapped {border: 1px dashed gray;margin: 0 0.4em 0.5em 0.4em;box-sizing: border-box;padding-bottom: 0.4em;background-color: white;}#sk-container-id-1 div.sk-label label {font-family: monospace;font-weight: bold;display: inline-block;line-height: 1.2em;}#sk-container-id-1 div.sk-label-container {text-align: center;}#sk-container-id-1 div.sk-container {/* jupyter's `normalize.less` sets `[hidden] { display: none; }` but bootstrap.min.css set `[hidden] { display: none !important; }` so we also need the `!important` here to be able to override the default hidden behavior on the sphinx rendered scikit-learn.org. See: https://github.com/scikit-learn/scikit-learn/issues/21755 */display: inline-block !important;position: relative;}#sk-container-id-1 div.sk-text-repr-fallback {display: none;}</style><div id=\"sk-container-id-1\" class=\"sk-top-container\"><div class=\"sk-text-repr-fallback\"><pre>RandomForestClassifier()</pre><b>In a Jupyter environment, please rerun this cell to show the HTML representation or trust the notebook. <br />On GitHub, the HTML representation is unable to render, please try loading this page with nbviewer.org.</b></div><div class=\"sk-container\" hidden><div class=\"sk-item\"><div class=\"sk-estimator sk-toggleable\"><input class=\"sk-toggleable__control sk-hidden--visually\" id=\"sk-estimator-id-1\" type=\"checkbox\" checked><label for=\"sk-estimator-id-1\" class=\"sk-toggleable__label sk-toggleable__label-arrow\">RandomForestClassifier</label><div class=\"sk-toggleable__content\"><pre>RandomForestClassifier()</pre></div></div></div></div></div>"
      ],
      "text/plain": [
       "RandomForestClassifier()"
      ]
     },
     "execution_count": 115,
     "metadata": {},
     "output_type": "execute_result"
    }
   ],
   "source": [
    "x_train, x_test, y_train, y_test = train_test_split(ds_trabajo_x,\n",
    "                                                    ds_trabajo_y,\n",
    "                                                    test_size=0.3,  \n",
    "                                                    random_state=70)\n",
    "rf_model = RandomForestClassifier(n_estimators=100)\n",
    "rf_model.fit(x_train, y_train)"
   ]
  },
  {
   "cell_type": "code",
   "execution_count": 116,
   "metadata": {},
   "outputs": [
    {
     "name": "stdout",
     "output_type": "stream",
     "text": [
      "Accuracy: 0.8816222141030325\n",
      "Precisión: 0.8916842235716942\n",
      "Recall: 0.8705384150030248\n",
      "F1-Score: 0.8809844496143014\n"
     ]
    }
   ],
   "source": [
    "rf_predictions = rf_model.predict(x_test)\n",
    "ds_resultados=pd.DataFrame(zip(y_test, rf_predictions),columns=['test','pred'])\n",
    "\n",
    "#Observamos accuracy del modelo\n",
    "accuracy = accuracy_score(y_test, rf_predictions)\n",
    "print(\"Accuracy:\", accuracy)\n",
    "\n",
    "#Observamos la precision del modelo\n",
    "precision = precision_score(y_test, rf_predictions)\n",
    "print(\"Precisión:\", precision)\n",
    "\n",
    "#Observamos el recall del modelo\n",
    "recall = recall_score(y_test, rf_predictions)\n",
    "print(\"Recall:\", recall)\n",
    "\n",
    "#Observamos el F1 Score de este arbol\n",
    "f1 = f1_score(y_test, rf_predictions)\n",
    "print(\"F1-Score:\", f1)"
   ]
  },
  {
   "cell_type": "code",
   "execution_count": 51,
   "metadata": {},
   "outputs": [
    {
     "data": {
      "text/plain": [
       "'param_grid = {\\n    \\'n_estimators\\':[550,551,555],\\n    \\'bootstrap\\':[True], \\n    \\'max_depth\\':[20,25,28],\\n    \\'max_features\\':[20,22,25], \\n    \\'min_samples_split\\':[2,3,4], \\n    \\'min_samples_leaf\\':[1,2,3], \\n    \\'random_state\\':[65,71,75]\\n}\\n\\n# Crear el clasificador SVM\\nsvm_classifier = RandomForestClassifier()\\n\\n# Realizar la búsqueda en cuadrícula con validación cruzada\\ngrid_search = GridSearchCV(svm_classifier, param_grid, cv=5, scoring=\\'accuracy\\')\\ngrid_search.fit(x_train, y_train)\\n\\n# Mostrar los mejores hiperparámetros\\nprint(\"Mejores hiperparámetros encontrados:\")\\nprint(grid_search.best_params_)\\n\\n# Mostrar el mejor puntaje\\nprint(\"Mejor puntaje de validación cruzada:\", grid_search.best_score_)'"
      ]
     },
     "execution_count": 51,
     "metadata": {},
     "output_type": "execute_result"
    }
   ],
   "source": [
    "param_grid = {\n",
    "    'n_estimators':[550,551,555],\n",
    "    'bootstrap':[True], \n",
    "    'max_depth':[20,25,28],\n",
    "    'max_features':[20,22,25], \n",
    "    'min_samples_split':[2,3,4], \n",
    "    'min_samples_leaf':[1,2,3], \n",
    "    'random_state':[65,71,75]\n",
    "}\n",
    "\n",
    "# Crear el clasificador SVM\n",
    "svm_classifier = RandomForestClassifier()\n",
    "\n",
    "# Realizar la búsqueda en cuadrícula con validación cruzada\n",
    "grid_search = GridSearchCV(svm_classifier, param_grid, cv=5, scoring='accuracy')\n",
    "grid_search.fit(x_train, y_train)\n",
    "\n",
    "# Mostrar los mejores hiperparámetros\n",
    "print(\"Mejores hiperparámetros encontrados:\")\n",
    "print(grid_search.best_params_)\n",
    "\n",
    "# Mostrar el mejor puntaje\n",
    "print(\"Mejor puntaje de validación cruzada:\", grid_search.best_score_)"
   ]
  },
  {
   "cell_type": "code",
   "execution_count": 126,
   "metadata": {},
   "outputs": [
    {
     "data": {
      "text/html": [
       "<style>#sk-container-id-4 {color: black;}#sk-container-id-4 pre{padding: 0;}#sk-container-id-4 div.sk-toggleable {background-color: white;}#sk-container-id-4 label.sk-toggleable__label {cursor: pointer;display: block;width: 100%;margin-bottom: 0;padding: 0.3em;box-sizing: border-box;text-align: center;}#sk-container-id-4 label.sk-toggleable__label-arrow:before {content: \"▸\";float: left;margin-right: 0.25em;color: #696969;}#sk-container-id-4 label.sk-toggleable__label-arrow:hover:before {color: black;}#sk-container-id-4 div.sk-estimator:hover label.sk-toggleable__label-arrow:before {color: black;}#sk-container-id-4 div.sk-toggleable__content {max-height: 0;max-width: 0;overflow: hidden;text-align: left;background-color: #f0f8ff;}#sk-container-id-4 div.sk-toggleable__content pre {margin: 0.2em;color: black;border-radius: 0.25em;background-color: #f0f8ff;}#sk-container-id-4 input.sk-toggleable__control:checked~div.sk-toggleable__content {max-height: 200px;max-width: 100%;overflow: auto;}#sk-container-id-4 input.sk-toggleable__control:checked~label.sk-toggleable__label-arrow:before {content: \"▾\";}#sk-container-id-4 div.sk-estimator input.sk-toggleable__control:checked~label.sk-toggleable__label {background-color: #d4ebff;}#sk-container-id-4 div.sk-label input.sk-toggleable__control:checked~label.sk-toggleable__label {background-color: #d4ebff;}#sk-container-id-4 input.sk-hidden--visually {border: 0;clip: rect(1px 1px 1px 1px);clip: rect(1px, 1px, 1px, 1px);height: 1px;margin: -1px;overflow: hidden;padding: 0;position: absolute;width: 1px;}#sk-container-id-4 div.sk-estimator {font-family: monospace;background-color: #f0f8ff;border: 1px dotted black;border-radius: 0.25em;box-sizing: border-box;margin-bottom: 0.5em;}#sk-container-id-4 div.sk-estimator:hover {background-color: #d4ebff;}#sk-container-id-4 div.sk-parallel-item::after {content: \"\";width: 100%;border-bottom: 1px solid gray;flex-grow: 1;}#sk-container-id-4 div.sk-label:hover label.sk-toggleable__label {background-color: #d4ebff;}#sk-container-id-4 div.sk-serial::before {content: \"\";position: absolute;border-left: 1px solid gray;box-sizing: border-box;top: 0;bottom: 0;left: 50%;z-index: 0;}#sk-container-id-4 div.sk-serial {display: flex;flex-direction: column;align-items: center;background-color: white;padding-right: 0.2em;padding-left: 0.2em;position: relative;}#sk-container-id-4 div.sk-item {position: relative;z-index: 1;}#sk-container-id-4 div.sk-parallel {display: flex;align-items: stretch;justify-content: center;background-color: white;position: relative;}#sk-container-id-4 div.sk-item::before, #sk-container-id-4 div.sk-parallel-item::before {content: \"\";position: absolute;border-left: 1px solid gray;box-sizing: border-box;top: 0;bottom: 0;left: 50%;z-index: -1;}#sk-container-id-4 div.sk-parallel-item {display: flex;flex-direction: column;z-index: 1;position: relative;background-color: white;}#sk-container-id-4 div.sk-parallel-item:first-child::after {align-self: flex-end;width: 50%;}#sk-container-id-4 div.sk-parallel-item:last-child::after {align-self: flex-start;width: 50%;}#sk-container-id-4 div.sk-parallel-item:only-child::after {width: 0;}#sk-container-id-4 div.sk-dashed-wrapped {border: 1px dashed gray;margin: 0 0.4em 0.5em 0.4em;box-sizing: border-box;padding-bottom: 0.4em;background-color: white;}#sk-container-id-4 div.sk-label label {font-family: monospace;font-weight: bold;display: inline-block;line-height: 1.2em;}#sk-container-id-4 div.sk-label-container {text-align: center;}#sk-container-id-4 div.sk-container {/* jupyter's `normalize.less` sets `[hidden] { display: none; }` but bootstrap.min.css set `[hidden] { display: none !important; }` so we also need the `!important` here to be able to override the default hidden behavior on the sphinx rendered scikit-learn.org. See: https://github.com/scikit-learn/scikit-learn/issues/21755 */display: inline-block !important;position: relative;}#sk-container-id-4 div.sk-text-repr-fallback {display: none;}</style><div id=\"sk-container-id-4\" class=\"sk-top-container\"><div class=\"sk-text-repr-fallback\"><pre>RandomForestClassifier(max_depth=28, max_features=22, n_estimators=551,\n",
       "                       random_state=71)</pre><b>In a Jupyter environment, please rerun this cell to show the HTML representation or trust the notebook. <br />On GitHub, the HTML representation is unable to render, please try loading this page with nbviewer.org.</b></div><div class=\"sk-container\" hidden><div class=\"sk-item\"><div class=\"sk-estimator sk-toggleable\"><input class=\"sk-toggleable__control sk-hidden--visually\" id=\"sk-estimator-id-7\" type=\"checkbox\" checked><label for=\"sk-estimator-id-7\" class=\"sk-toggleable__label sk-toggleable__label-arrow\">RandomForestClassifier</label><div class=\"sk-toggleable__content\"><pre>RandomForestClassifier(max_depth=28, max_features=22, n_estimators=551,\n",
       "                       random_state=71)</pre></div></div></div></div></div>"
      ],
      "text/plain": [
       "RandomForestClassifier(max_depth=28, max_features=22, n_estimators=551,\n",
       "                       random_state=71)"
      ]
     },
     "execution_count": 126,
     "metadata": {},
     "output_type": "execute_result"
    }
   ],
   "source": [
    "x_train, x_test, y_train, y_test = train_test_split(ds_trabajo_x,\n",
    "                                                    ds_trabajo_y,\n",
    "                                                    test_size=0.3,  \n",
    "                                                    random_state=70)\n",
    "rf_model = RandomForestClassifier(n_estimators=551,\n",
    "                                  bootstrap=True, \n",
    "                                  max_depth=28,\n",
    "                                  max_features=22, \n",
    "                                  min_samples_split=2, \n",
    "                                  min_samples_leaf=1, \n",
    "                                  random_state=71)\n",
    "rf_model.fit(x_train, y_train)\n"
   ]
  },
  {
   "cell_type": "code",
   "execution_count": 118,
   "metadata": {},
   "outputs": [
    {
     "name": "stdout",
     "output_type": "stream",
     "text": [
      "Accuracy: 0.8867981975398855\n",
      "Precisión: 0.8905145086564252\n",
      "Recall: 0.8837265577737448\n",
      "F1-Score: 0.8871075484301938\n"
     ]
    }
   ],
   "source": [
    "rf_predictions = rf_model.predict(x_test)\n",
    "ds_resultados=pd.DataFrame(zip(y_test, rf_predictions),columns=['test','pred'])\n",
    "\n",
    "#Observamos accuracy del modelo\n",
    "accuracy = accuracy_score(y_test, rf_predictions)\n",
    "print(\"Accuracy:\", accuracy)\n",
    "\n",
    "#Observamos la precision del modelo\n",
    "precision = precision_score(y_test, rf_predictions)\n",
    "print(\"Precisión:\", precision)\n",
    "\n",
    "#Observamos el recall del modelo\n",
    "recall = recall_score(y_test, rf_predictions)\n",
    "print(\"Recall:\", recall)\n",
    "\n",
    "#Observamos el F1 Score de este arbol\n",
    "f1 = f1_score(y_test, rf_predictions)\n",
    "print(\"F1-Score:\", f1)"
   ]
  },
  {
   "cell_type": "code",
   "execution_count": 20,
   "metadata": {},
   "outputs": [
    {
     "data": {
      "text/plain": [
       "[('lead_time', 0.14973164827156343),\n",
       " ('deposit_type_Non Refund', 0.14122100593622594),\n",
       " ('adr', 0.0717401437607894),\n",
       " ('agent', 0.05688026944623761),\n",
       " ('arrival_date_day_of_month', 0.053254685803881305),\n",
       " ('most_canceled_country', 0.051045667053642406),\n",
       " ('total_of_special_requests', 0.04758865835557346),\n",
       " ('arrival_date_week_number', 0.04682470222905106),\n",
       " ('market_segment_Online TA', 0.043876423513557646),\n",
       " ('less_canceled_country', 0.04230875429088791),\n",
       " ('change_room', 0.04165462282932192),\n",
       " ('nights', 0.03371446648174037),\n",
       " ('required_car_parking_spaces', 0.029318248364962246),\n",
       " ('arrival_date_year', 0.025338103456781034),\n",
       " ('customer_type_Transient', 0.018807575473224234),\n",
       " ('previous_cancellations', 0.01822081313098301),\n",
       " ('booking_changes', 0.016327401326600117),\n",
       " ('customer_type_Transient-Party', 0.009930294531678362),\n",
       " ('market_segment_Offline TA/TO', 0.008665705503112627),\n",
       " ('adults', 0.008020127131311025),\n",
       " ('hotel_Resort Hotel', 0.00701600446022331),\n",
       " ('distribution_channel_TA/TO', 0.006306614094944853),\n",
       " ('minors', 0.006190592741467642),\n",
       " ('meal_SC', 0.005675391221300257),\n",
       " ('meal_HB', 0.004688653939487882),\n",
       " ('arrival_date_month_August', 0.004463641553795724),\n",
       " ('arrival_date_month_July', 0.004193354959541208),\n",
       " ('previous_bookings_not_canceled', 0.003990338284065602),\n",
       " ('arrival_date_month_June', 0.003983433174539655),\n",
       " ('arrival_date_month_May', 0.003940454207243474),\n",
       " ('arrival_date_month_March', 0.0032491044038258786),\n",
       " ('arrival_date_month_February', 0.003230582846919561),\n",
       " ('market_segment_Direct', 0.003204154921474431),\n",
       " ('arrival_date_month_October', 0.0031384497523640207),\n",
       " ('market_segment_Groups', 0.0029884895843839627),\n",
       " ('arrival_date_month_September', 0.0028845888787170813),\n",
       " ('distribution_channel_Direct', 0.0027208178362021903),\n",
       " ('arrival_date_month_November', 0.0024510261021969356),\n",
       " ('arrival_date_month_December', 0.0018056379982505488),\n",
       " ('arrival_date_month_January', 0.0017154665815837596),\n",
       " ('days_in_waiting_list', 0.0017046468250733152),\n",
       " ('company', 0.0016624727059942914),\n",
       " ('market_segment_Corporate', 0.0015562873598515103),\n",
       " ('is_repeated_guest', 0.001374514948404989),\n",
       " ('meal_FB', 0.0005751520162267333),\n",
       " ('distribution_channel_GDS', 0.00043349630868016667),\n",
       " ('market_segment_Complementary', 0.00038731540211585814)]"
      ]
     },
     "execution_count": 20,
     "metadata": {},
     "output_type": "execute_result"
    }
   ],
   "source": [
    "sorted(list(zip(ds_trabajo_x.columns.to_list(), rf_model.feature_importances_)), key=lambda x: -x[1])"
   ]
  },
  {
   "cell_type": "markdown",
   "metadata": {},
   "source": [
    "Graficamos su matriz de confusion"
   ]
  },
  {
   "cell_type": "code",
   "execution_count": 21,
   "metadata": {},
   "outputs": [
    {
     "data": {
      "text/plain": [
       "Text(50.722222222222214, 0.5, 'True')"
      ]
     },
     "execution_count": 21,
     "metadata": {},
     "output_type": "execute_result"
    },
    {
     "data": {
      "image/png": "[encoded data removed]",
      "text/plain": [
       "<Figure size 640x480 with 2 Axes>"
      ]
     },
     "metadata": {},
     "output_type": "display_data"
    }
   ],
   "source": [
    "tabla=confusion_matrix(y_test, rf_predictions)\n",
    "\n",
    "#Grafico la matriz de confusión\n",
    "sns.heatmap(tabla,cmap='GnBu',annot=True,fmt='g')\n",
    "plt.xlabel('Predicted')\n",
    "plt.ylabel('True')"
   ]
  },
  {
   "cell_type": "markdown",
   "metadata": {},
   "source": [
    "Creamos CSV con el modelo RF"
   ]
  },
  {
   "cell_type": "code",
   "execution_count": 22,
   "metadata": {},
   "outputs": [
    {
     "data": {
      "text/plain": [
       "\" rf_model = RandomForestClassifier(n_estimators=551,\\n                                  bootstrap=True, \\n                                  max_depth=28,\\n                                  max_features=22, \\n                                  min_samples_split=2, \\n                                  min_samples_leaf=1, \\n                                  random_state=71)\\nrf_model.fit(ds_trabajo_x, ds_trabajo_y)\\ny_pred = rf_model.predict(data_test.drop('id', axis = 1))\\n\\nresultado = pd.DataFrame()\\nresultado['id'] = data_test['id']\\nresultado['is_canceled'] = y_pred\\n#Comento esta linea para que no crear el archivo siempre\\nresultado.to_csv('predicciones.csv', index=False) \""
      ]
     },
     "execution_count": 22,
     "metadata": {},
     "output_type": "execute_result"
    }
   ],
   "source": [
    "rf_model = RandomForestClassifier(n_estimators=551,\n",
    "                                  bootstrap=True, \n",
    "                                  max_depth=28,\n",
    "                                  max_features=22, \n",
    "                                  min_samples_split=2, \n",
    "                                  min_samples_leaf=1, \n",
    "                                  random_state=71)\n",
    "rf_model.fit(ds_trabajo_x, ds_trabajo_y)\n",
    "y_pred = rf_model.predict(data_test.drop('id', axis = 1))\n",
    "\n",
    "resultado = pd.DataFrame()\n",
    "resultado['id'] = data_test['id']\n",
    "resultado['is_canceled'] = y_pred\n",
    "#Comento esta linea para que no crear el archivo siempre\n",
    "resultado.to_csv('predicciones.csv', index=False)"
   ]
  },
  {
   "cell_type": "markdown",
   "metadata": {},
   "source": [
    "# XGBoost"
   ]
  },
  {
   "cell_type": "code",
   "execution_count": 59,
   "metadata": {},
   "outputs": [
    {
     "name": "stdout",
     "output_type": "stream",
     "text": [
      "Accuracy: 0.870965777615394\n",
      "Precisión: 0.8667471333735667\n",
      "Recall: 0.8761591020009761\n",
      "F1-Score: 0.8714277046295734\n"
     ]
    }
   ],
   "source": [
    "xgb_model = XGBClassifier(n_estimators=100)\n",
    "\n",
    "xgb_model.fit(x_train, y_train)\n",
    "\n",
    "xgb_predictions = xgb_model.predict(np.array(x_test))\n",
    "ds_resultados=pd.DataFrame(zip(y_test, xgb_predictions),columns=['test','pred'])\n",
    "\n",
    "#Observamos accuracy del modelo\n",
    "accuracy = accuracy_score(y_test, xgb_predictions)\n",
    "print(\"Accuracy:\", accuracy)\n",
    "\n",
    "#Observamos la precision del modelo\n",
    "precision = precision_score(y_test, xgb_predictions)\n",
    "print(\"Precisión:\", precision)\n",
    "\n",
    "#Observamos el recall del modelo\n",
    "recall = recall_score(y_test, xgb_predictions)\n",
    "print(\"Recall:\", recall)\n",
    "\n",
    "#Observamos el F1 Score de este arbol\n",
    "f1 = f1_score(y_test, xgb_predictions)\n",
    "print(\"F1-Score:\", f1)"
   ]
  },
  {
   "cell_type": "markdown",
   "metadata": {},
   "source": [
    "Random search para busqueda de hiperparametros"
   ]
  },
  {
   "cell_type": "code",
   "execution_count": 24,
   "metadata": {},
   "outputs": [
    {
     "data": {
      "text/plain": [
       "' #Cantidad de combinaciones que quiero probar\\nn=10\\n\\nparams_grid = {\\'n_estimators\\':[300, 500, 700, 1000],\\n                \\'max_depth\\':list(range(0,30)),\\n                \\'learning_rate\\':[1, 0.1, 0.01],\\n                \\'subsample\\':1,\\n                \\'colsample_bytree\\':[1, 0.8, 0.5],\\n                \\'gamma\\':[0.8, 0.5, 0.3],\\n                \\'objective\\':\"reg:logistic\",\\n                \\'random_state\\':30}\\n\\nfolds=10\\nkfoldcv = StratifiedKFold(n_splits=folds)\\nbase_tree = XGBClassifier()\\nscorer_fn = make_scorer(f1_score)\\n\\n#Random Search Cross Validation\\nrandomcv = RandomizedSearchCV(estimator=base_tree,\\n                              param_distributions = params_grid,\\n                              scoring=scorer_fn,\\n                              cv=kfoldcv,\\n                              n_iter=n)\\n\\nrandomcv.fit(x_train,y_train)\\n\\n#Mejores hiperparametros del arbol\\nprint(randomcv.best_params_)\\n#Mejor métrica\\nprint(randomcv.best_score_) '"
      ]
     },
     "execution_count": 24,
     "metadata": {},
     "output_type": "execute_result"
    }
   ],
   "source": [
    "n=10\n",
    "\n",
    "params_grid = {'n_estimators':[300, 500, 700, 1000],\n",
    "                'max_depth':list(range(0,30)),\n",
    "                'learning_rate':[1, 0.1, 0.01],\n",
    "                'subsample':1,\n",
    "                'colsample_bytree':[1, 0.8, 0.5],\n",
    "                'gamma':[0.8, 0.5, 0.3],\n",
    "                'objective':\"reg:logistic\",\n",
    "                'random_state':30}\n",
    "\n",
    "folds=10\n",
    "kfoldcv = StratifiedKFold(n_splits=folds)\n",
    "base_tree = XGBClassifier()\n",
    "scorer_fn = make_scorer(f1_score)\n",
    "\n",
    "#Random Search Cross Validation\n",
    "randomcv = RandomizedSearchCV(estimator=base_tree,\n",
    "                              param_distributions = params_grid,\n",
    "                              scoring=scorer_fn,\n",
    "                              cv=kfoldcv,\n",
    "                              n_iter=n)\n",
    "\n",
    "randomcv.fit(x_train,y_train)\n",
    "\n",
    "#Mejores hiperparametros del arbol\n",
    "print(randomcv.best_params_)\n",
    "#Mejor métrica\n",
    "print(randomcv.best_score_)"
   ]
  },
  {
   "cell_type": "markdown",
   "metadata": {},
   "source": [
    "XGB con \"mejores\" hiperparametros encontrados"
   ]
  },
  {
   "cell_type": "code",
   "execution_count": 127,
   "metadata": {},
   "outputs": [
    {
     "data": {
      "text/html": [
       "<style>#sk-container-id-5 {color: black;}#sk-container-id-5 pre{padding: 0;}#sk-container-id-5 div.sk-toggleable {background-color: white;}#sk-container-id-5 label.sk-toggleable__label {cursor: pointer;display: block;width: 100%;margin-bottom: 0;padding: 0.3em;box-sizing: border-box;text-align: center;}#sk-container-id-5 label.sk-toggleable__label-arrow:before {content: \"▸\";float: left;margin-right: 0.25em;color: #696969;}#sk-container-id-5 label.sk-toggleable__label-arrow:hover:before {color: black;}#sk-container-id-5 div.sk-estimator:hover label.sk-toggleable__label-arrow:before {color: black;}#sk-container-id-5 div.sk-toggleable__content {max-height: 0;max-width: 0;overflow: hidden;text-align: left;background-color: #f0f8ff;}#sk-container-id-5 div.sk-toggleable__content pre {margin: 0.2em;color: black;border-radius: 0.25em;background-color: #f0f8ff;}#sk-container-id-5 input.sk-toggleable__control:checked~div.sk-toggleable__content {max-height: 200px;max-width: 100%;overflow: auto;}#sk-container-id-5 input.sk-toggleable__control:checked~label.sk-toggleable__label-arrow:before {content: \"▾\";}#sk-container-id-5 div.sk-estimator input.sk-toggleable__control:checked~label.sk-toggleable__label {background-color: #d4ebff;}#sk-container-id-5 div.sk-label input.sk-toggleable__control:checked~label.sk-toggleable__label {background-color: #d4ebff;}#sk-container-id-5 input.sk-hidden--visually {border: 0;clip: rect(1px 1px 1px 1px);clip: rect(1px, 1px, 1px, 1px);height: 1px;margin: -1px;overflow: hidden;padding: 0;position: absolute;width: 1px;}#sk-container-id-5 div.sk-estimator {font-family: monospace;background-color: #f0f8ff;border: 1px dotted black;border-radius: 0.25em;box-sizing: border-box;margin-bottom: 0.5em;}#sk-container-id-5 div.sk-estimator:hover {background-color: #d4ebff;}#sk-container-id-5 div.sk-parallel-item::after {content: \"\";width: 100%;border-bottom: 1px solid gray;flex-grow: 1;}#sk-container-id-5 div.sk-label:hover label.sk-toggleable__label {background-color: #d4ebff;}#sk-container-id-5 div.sk-serial::before {content: \"\";position: absolute;border-left: 1px solid gray;box-sizing: border-box;top: 0;bottom: 0;left: 50%;z-index: 0;}#sk-container-id-5 div.sk-serial {display: flex;flex-direction: column;align-items: center;background-color: white;padding-right: 0.2em;padding-left: 0.2em;position: relative;}#sk-container-id-5 div.sk-item {position: relative;z-index: 1;}#sk-container-id-5 div.sk-parallel {display: flex;align-items: stretch;justify-content: center;background-color: white;position: relative;}#sk-container-id-5 div.sk-item::before, #sk-container-id-5 div.sk-parallel-item::before {content: \"\";position: absolute;border-left: 1px solid gray;box-sizing: border-box;top: 0;bottom: 0;left: 50%;z-index: -1;}#sk-container-id-5 div.sk-parallel-item {display: flex;flex-direction: column;z-index: 1;position: relative;background-color: white;}#sk-container-id-5 div.sk-parallel-item:first-child::after {align-self: flex-end;width: 50%;}#sk-container-id-5 div.sk-parallel-item:last-child::after {align-self: flex-start;width: 50%;}#sk-container-id-5 div.sk-parallel-item:only-child::after {width: 0;}#sk-container-id-5 div.sk-dashed-wrapped {border: 1px dashed gray;margin: 0 0.4em 0.5em 0.4em;box-sizing: border-box;padding-bottom: 0.4em;background-color: white;}#sk-container-id-5 div.sk-label label {font-family: monospace;font-weight: bold;display: inline-block;line-height: 1.2em;}#sk-container-id-5 div.sk-label-container {text-align: center;}#sk-container-id-5 div.sk-container {/* jupyter's `normalize.less` sets `[hidden] { display: none; }` but bootstrap.min.css set `[hidden] { display: none !important; }` so we also need the `!important` here to be able to override the default hidden behavior on the sphinx rendered scikit-learn.org. See: https://github.com/scikit-learn/scikit-learn/issues/21755 */display: inline-block !important;position: relative;}#sk-container-id-5 div.sk-text-repr-fallback {display: none;}</style><div id=\"sk-container-id-5\" class=\"sk-top-container\"><div class=\"sk-text-repr-fallback\"><pre>XGBClassifier(base_score=None, booster=None, callbacks=None,\n",
       "              colsample_bylevel=None, colsample_bynode=None,\n",
       "              colsample_bytree=0.8, device=None, early_stopping_rounds=None,\n",
       "              enable_categorical=False, eval_metric=None, feature_types=None,\n",
       "              gamma=0.3, grow_policy=None, importance_type=None,\n",
       "              interaction_constraints=None, learning_rate=0.01, max_bin=None,\n",
       "              max_cat_threshold=None, max_cat_to_onehot=None,\n",
       "              max_delta_step=None, max_depth=25, max_leaves=None,\n",
       "              min_child_weight=None, missing=nan, monotone_constraints=None,\n",
       "              multi_strategy=None, n_estimators=1000, n_jobs=None,\n",
       "              num_parallel_tree=None, objective=&#x27;reg:logistic&#x27;, ...)</pre><b>In a Jupyter environment, please rerun this cell to show the HTML representation or trust the notebook. <br />On GitHub, the HTML representation is unable to render, please try loading this page with nbviewer.org.</b></div><div class=\"sk-container\" hidden><div class=\"sk-item\"><div class=\"sk-estimator sk-toggleable\"><input class=\"sk-toggleable__control sk-hidden--visually\" id=\"sk-estimator-id-8\" type=\"checkbox\" checked><label for=\"sk-estimator-id-8\" class=\"sk-toggleable__label sk-toggleable__label-arrow\">XGBClassifier</label><div class=\"sk-toggleable__content\"><pre>XGBClassifier(base_score=None, booster=None, callbacks=None,\n",
       "              colsample_bylevel=None, colsample_bynode=None,\n",
       "              colsample_bytree=0.8, device=None, early_stopping_rounds=None,\n",
       "              enable_categorical=False, eval_metric=None, feature_types=None,\n",
       "              gamma=0.3, grow_policy=None, importance_type=None,\n",
       "              interaction_constraints=None, learning_rate=0.01, max_bin=None,\n",
       "              max_cat_threshold=None, max_cat_to_onehot=None,\n",
       "              max_delta_step=None, max_depth=25, max_leaves=None,\n",
       "              min_child_weight=None, missing=nan, monotone_constraints=None,\n",
       "              multi_strategy=None, n_estimators=1000, n_jobs=None,\n",
       "              num_parallel_tree=None, objective=&#x27;reg:logistic&#x27;, ...)</pre></div></div></div></div></div>"
      ],
      "text/plain": [
       "XGBClassifier(base_score=None, booster=None, callbacks=None,\n",
       "              colsample_bylevel=None, colsample_bynode=None,\n",
       "              colsample_bytree=0.8, device=None, early_stopping_rounds=None,\n",
       "              enable_categorical=False, eval_metric=None, feature_types=None,\n",
       "              gamma=0.3, grow_policy=None, importance_type=None,\n",
       "              interaction_constraints=None, learning_rate=0.01, max_bin=None,\n",
       "              max_cat_threshold=None, max_cat_to_onehot=None,\n",
       "              max_delta_step=None, max_depth=25, max_leaves=None,\n",
       "              min_child_weight=None, missing=nan, monotone_constraints=None,\n",
       "              multi_strategy=None, n_estimators=1000, n_jobs=None,\n",
       "              num_parallel_tree=None, objective='reg:logistic', ...)"
      ]
     },
     "execution_count": 127,
     "metadata": {},
     "output_type": "execute_result"
    }
   ],
   "source": [
    "xgb_model = XGBClassifier(n_estimators=1000,\n",
    "                          max_depth=25,\n",
    "                          learning_rate=0.01,\n",
    "                          subsample=1,\n",
    "                          colsample_bytree=0.8,\n",
    "                          gamma=0.3,\n",
    "                          objective=\"reg:logistic\",\n",
    "                          random_state=30)\n",
    "\n",
    "xgb_model.fit(x_train, y_train)"
   ]
  },
  {
   "cell_type": "code",
   "execution_count": 67,
   "metadata": {},
   "outputs": [
    {
     "name": "stdout",
     "output_type": "stream",
     "text": [
      "Accuracy: 0.8818657897941785\n",
      "Precisión: 0.8852478986478256\n",
      "Recall: 0.8792498487598306\n",
      "F1-Score: 0.8822386791307515\n"
     ]
    }
   ],
   "source": [
    "xgb_predictions = xgb_model.predict(np.array(x_test))\n",
    "ds_resultados=pd.DataFrame(zip(y_test, xgb_predictions),columns=['test','pred'])\n",
    "\n",
    "#Observamos accuracy del modelo\n",
    "accuracy = accuracy_score(y_test, xgb_predictions)\n",
    "print(\"Accuracy:\", accuracy)\n",
    "\n",
    "#Observamos la precision del modelo\n",
    "precision = precision_score(y_test, xgb_predictions)\n",
    "print(\"Precisión:\", precision)\n",
    "\n",
    "#Observamos el recall del modelo\n",
    "recall = recall_score(y_test, xgb_predictions)\n",
    "print(\"Recall:\", recall)\n",
    "\n",
    "#Observamos el F1 Score de este arbol\n",
    "f1 = f1_score(y_test, xgb_predictions)\n",
    "print(\"F1-Score:\", f1)"
   ]
  },
  {
   "cell_type": "code",
   "execution_count": 27,
   "metadata": {},
   "outputs": [
    {
     "data": {
      "text/plain": [
       "Text(50.722222222222214, 0.5, 'True')"
      ]
     },
     "execution_count": 27,
     "metadata": {},
     "output_type": "execute_result"
    },
    {
     "data": {
      "image/png": "[encoded data removed]",
      "text/plain": [
       "<Figure size 640x480 with 2 Axes>"
      ]
     },
     "metadata": {},
     "output_type": "display_data"
    }
   ],
   "source": [
    "tabla=confusion_matrix(y_test, xgb_predictions)\n",
    "\n",
    "#Grafico la matriz de confusión\n",
    "sns.heatmap(tabla,cmap='GnBu',annot=True,fmt='g')\n",
    "plt.xlabel('Predicted')\n",
    "plt.ylabel('True')"
   ]
  },
  {
   "cell_type": "code",
   "execution_count": 28,
   "metadata": {},
   "outputs": [
    {
     "data": {
      "text/html": [
       "<div>\n",
       "<style scoped>\n",
       "    .dataframe tbody tr th:only-of-type {\n",
       "        vertical-align: middle;\n",
       "    }\n",
       "\n",
       "    .dataframe tbody tr th {\n",
       "        vertical-align: top;\n",
       "    }\n",
       "\n",
       "    .dataframe thead th {\n",
       "        text-align: right;\n",
       "    }\n",
       "</style>\n",
       "<table border=\"1\" class=\"dataframe\">\n",
       "  <thead>\n",
       "    <tr style=\"text-align: right;\">\n",
       "      <th></th>\n",
       "      <th>train-auc-mean</th>\n",
       "      <th>train-auc-std</th>\n",
       "      <th>test-auc-mean</th>\n",
       "      <th>test-auc-std</th>\n",
       "    </tr>\n",
       "  </thead>\n",
       "  <tbody>\n",
       "    <tr>\n",
       "      <th>0</th>\n",
       "      <td>0.886220</td>\n",
       "      <td>0.002083</td>\n",
       "      <td>0.884627</td>\n",
       "      <td>0.003583</td>\n",
       "    </tr>\n",
       "    <tr>\n",
       "      <th>1</th>\n",
       "      <td>0.894414</td>\n",
       "      <td>0.001062</td>\n",
       "      <td>0.892783</td>\n",
       "      <td>0.004256</td>\n",
       "    </tr>\n",
       "    <tr>\n",
       "      <th>2</th>\n",
       "      <td>0.894946</td>\n",
       "      <td>0.001849</td>\n",
       "      <td>0.892674</td>\n",
       "      <td>0.004202</td>\n",
       "    </tr>\n",
       "    <tr>\n",
       "      <th>3</th>\n",
       "      <td>0.896220</td>\n",
       "      <td>0.001808</td>\n",
       "      <td>0.894229</td>\n",
       "      <td>0.003629</td>\n",
       "    </tr>\n",
       "    <tr>\n",
       "      <th>4</th>\n",
       "      <td>0.898224</td>\n",
       "      <td>0.001748</td>\n",
       "      <td>0.896352</td>\n",
       "      <td>0.003922</td>\n",
       "    </tr>\n",
       "    <tr>\n",
       "      <th>5</th>\n",
       "      <td>0.902844</td>\n",
       "      <td>0.002976</td>\n",
       "      <td>0.900946</td>\n",
       "      <td>0.005526</td>\n",
       "    </tr>\n",
       "    <tr>\n",
       "      <th>6</th>\n",
       "      <td>0.908134</td>\n",
       "      <td>0.002087</td>\n",
       "      <td>0.906127</td>\n",
       "      <td>0.003834</td>\n",
       "    </tr>\n",
       "    <tr>\n",
       "      <th>7</th>\n",
       "      <td>0.912693</td>\n",
       "      <td>0.001709</td>\n",
       "      <td>0.910626</td>\n",
       "      <td>0.003564</td>\n",
       "    </tr>\n",
       "  </tbody>\n",
       "</table>\n",
       "</div>"
      ],
      "text/plain": [
       "   train-auc-mean  train-auc-std  test-auc-mean  test-auc-std\n",
       "0        0.886220       0.002083       0.884627      0.003583\n",
       "1        0.894414       0.001062       0.892783      0.004256\n",
       "2        0.894946       0.001849       0.892674      0.004202\n",
       "3        0.896220       0.001808       0.894229      0.003629\n",
       "4        0.898224       0.001748       0.896352      0.003922\n",
       "5        0.902844       0.002976       0.900946      0.005526\n",
       "6        0.908134       0.002087       0.906127      0.003834\n",
       "7        0.912693       0.001709       0.910626      0.003564"
      ]
     },
     "execution_count": 28,
     "metadata": {},
     "output_type": "execute_result"
    }
   ],
   "source": [
    "data_dmatrix = xgb.DMatrix(data=x_train, label=y_train)\n",
    "\n",
    "#Entreno CV para probar el learning rate\n",
    "results=xgb.cv(dtrain=data_dmatrix,nfold=5,params={'learning_rate':0.1},num_boost_round=8,metrics='auc')\n",
    "results"
   ]
  },
  {
   "cell_type": "markdown",
   "metadata": {},
   "source": [
    "Realizamos cross validation"
   ]
  },
  {
   "cell_type": "code",
   "execution_count": 29,
   "metadata": {},
   "outputs": [
    {
     "name": "stdout",
     "output_type": "stream",
     "text": [
      "Accuracy por cada fold de validación cruzada:\n",
      "[0.89196242 0.8763048  0.87447808 0.87056367 0.87787056 0.87679457\n",
      " 0.87757766 0.88227617 0.89141216 0.87653354]\n"
     ]
    }
   ],
   "source": [
    "scores = cross_val_score(xgb_model, x_train, y_train, cv=10, scoring='accuracy')\n",
    "\n",
    "print(\"Accuracy por cada fold de validación cruzada:\")\n",
    "print(scores)"
   ]
  },
  {
   "cell_type": "code",
   "execution_count": 68,
   "metadata": {},
   "outputs": [],
   "source": [
    "xgb_model = XGBClassifier(n_estimators=1000,\n",
    "                          max_depth=25,\n",
    "                          learning_rate=0.01,\n",
    "                          subsample=1,\n",
    "                          colsample_bytree=0.8,\n",
    "                          gamma=0.3,\n",
    "                          objective=\"reg:logistic\",\n",
    "                          random_state=30)\n",
    "xgb_model.fit(ds_trabajo_x, ds_trabajo_y)\n",
    "\n",
    "y_pred = xgb_model.predict(data_test.drop('id', axis = 1))\n",
    "\n",
    "resultado = pd.DataFrame()\n",
    "resultado['id'] = data_test['id']\n",
    "resultado['is_canceled'] = y_pred\n",
    "#Comento esta linea para que no crear el archivo siempre\n",
    "resultado.to_csv('predicciones.csv', index=False)"
   ]
  },
  {
   "cell_type": "markdown",
   "metadata": {},
   "source": [
    "# Realizamos ensambles"
   ]
  },
  {
   "cell_type": "markdown",
   "metadata": {},
   "source": [
    "## Ensamble tipo voting"
   ]
  },
  {
   "cell_type": "code",
   "execution_count": 5,
   "metadata": {},
   "outputs": [],
   "source": [
    "rf_model = RandomForestClassifier(n_estimators=551,\n",
    "                                  bootstrap=True, \n",
    "                                  max_depth=28,\n",
    "                                  max_features=22, \n",
    "                                  min_samples_split=2, \n",
    "                                  min_samples_leaf=1, \n",
    "                                  random_state=71)\n",
    "\n",
    "xgb_model = XGBClassifier(n_estimators=1000,\n",
    "                          max_depth=25,\n",
    "                          learning_rate=0.01,\n",
    "                          subsample=1,\n",
    "                          colsample_bytree=0.8,\n",
    "                          gamma=0.3,\n",
    "                          objective=\"reg:logistic\",\n",
    "                          random_state=30)\n",
    "\n",
    "svm_classifier = SVC(kernel='linear',\n",
    "                    C=0.1,\n",
    "                    gamma='scale',\n",
    "                    degree=3,\n",
    "                    class_weight=None)\n"
   ]
  },
  {
   "cell_type": "code",
   "execution_count": 6,
   "metadata": {},
   "outputs": [
    {
     "data": {
      "text/html": [
       "<style>#sk-container-id-1 {color: black;}#sk-container-id-1 pre{padding: 0;}#sk-container-id-1 div.sk-toggleable {background-color: white;}#sk-container-id-1 label.sk-toggleable__label {cursor: pointer;display: block;width: 100%;margin-bottom: 0;padding: 0.3em;box-sizing: border-box;text-align: center;}#sk-container-id-1 label.sk-toggleable__label-arrow:before {content: \"▸\";float: left;margin-right: 0.25em;color: #696969;}#sk-container-id-1 label.sk-toggleable__label-arrow:hover:before {color: black;}#sk-container-id-1 div.sk-estimator:hover label.sk-toggleable__label-arrow:before {color: black;}#sk-container-id-1 div.sk-toggleable__content {max-height: 0;max-width: 0;overflow: hidden;text-align: left;background-color: #f0f8ff;}#sk-container-id-1 div.sk-toggleable__content pre {margin: 0.2em;color: black;border-radius: 0.25em;background-color: #f0f8ff;}#sk-container-id-1 input.sk-toggleable__control:checked~div.sk-toggleable__content {max-height: 200px;max-width: 100%;overflow: auto;}#sk-container-id-1 input.sk-toggleable__control:checked~label.sk-toggleable__label-arrow:before {content: \"▾\";}#sk-container-id-1 div.sk-estimator input.sk-toggleable__control:checked~label.sk-toggleable__label {background-color: #d4ebff;}#sk-container-id-1 div.sk-label input.sk-toggleable__control:checked~label.sk-toggleable__label {background-color: #d4ebff;}#sk-container-id-1 input.sk-hidden--visually {border: 0;clip: rect(1px 1px 1px 1px);clip: rect(1px, 1px, 1px, 1px);height: 1px;margin: -1px;overflow: hidden;padding: 0;position: absolute;width: 1px;}#sk-container-id-1 div.sk-estimator {font-family: monospace;background-color: #f0f8ff;border: 1px dotted black;border-radius: 0.25em;box-sizing: border-box;margin-bottom: 0.5em;}#sk-container-id-1 div.sk-estimator:hover {background-color: #d4ebff;}#sk-container-id-1 div.sk-parallel-item::after {content: \"\";width: 100%;border-bottom: 1px solid gray;flex-grow: 1;}#sk-container-id-1 div.sk-label:hover label.sk-toggleable__label {background-color: #d4ebff;}#sk-container-id-1 div.sk-serial::before {content: \"\";position: absolute;border-left: 1px solid gray;box-sizing: border-box;top: 0;bottom: 0;left: 50%;z-index: 0;}#sk-container-id-1 div.sk-serial {display: flex;flex-direction: column;align-items: center;background-color: white;padding-right: 0.2em;padding-left: 0.2em;position: relative;}#sk-container-id-1 div.sk-item {position: relative;z-index: 1;}#sk-container-id-1 div.sk-parallel {display: flex;align-items: stretch;justify-content: center;background-color: white;position: relative;}#sk-container-id-1 div.sk-item::before, #sk-container-id-1 div.sk-parallel-item::before {content: \"\";position: absolute;border-left: 1px solid gray;box-sizing: border-box;top: 0;bottom: 0;left: 50%;z-index: -1;}#sk-container-id-1 div.sk-parallel-item {display: flex;flex-direction: column;z-index: 1;position: relative;background-color: white;}#sk-container-id-1 div.sk-parallel-item:first-child::after {align-self: flex-end;width: 50%;}#sk-container-id-1 div.sk-parallel-item:last-child::after {align-self: flex-start;width: 50%;}#sk-container-id-1 div.sk-parallel-item:only-child::after {width: 0;}#sk-container-id-1 div.sk-dashed-wrapped {border: 1px dashed gray;margin: 0 0.4em 0.5em 0.4em;box-sizing: border-box;padding-bottom: 0.4em;background-color: white;}#sk-container-id-1 div.sk-label label {font-family: monospace;font-weight: bold;display: inline-block;line-height: 1.2em;}#sk-container-id-1 div.sk-label-container {text-align: center;}#sk-container-id-1 div.sk-container {/* jupyter's `normalize.less` sets `[hidden] { display: none; }` but bootstrap.min.css set `[hidden] { display: none !important; }` so we also need the `!important` here to be able to override the default hidden behavior on the sphinx rendered scikit-learn.org. See: https://github.com/scikit-learn/scikit-learn/issues/21755 */display: inline-block !important;position: relative;}#sk-container-id-1 div.sk-text-repr-fallback {display: none;}</style><div id=\"sk-container-id-1\" class=\"sk-top-container\"><div class=\"sk-text-repr-fallback\"><pre>VotingClassifier(estimators=[(&#x27;rf&#x27;,\n",
       "                              RandomForestClassifier(max_depth=28,\n",
       "                                                     max_features=22,\n",
       "                                                     n_estimators=551,\n",
       "                                                     random_state=71)),\n",
       "                             (&#x27;xgb&#x27;,\n",
       "                              XGBClassifier(base_score=None, booster=None,\n",
       "                                            callbacks=None,\n",
       "                                            colsample_bylevel=None,\n",
       "                                            colsample_bynode=None,\n",
       "                                            colsample_bytree=0.8, device=None,\n",
       "                                            early_stopping_rounds=None,\n",
       "                                            enable_categorical=False,\n",
       "                                            eval_metric=None,\n",
       "                                            feature_types=No...\n",
       "                                            interaction_constraints=None,\n",
       "                                            learning_rate=0.01, max_bin=None,\n",
       "                                            max_cat_threshold=None,\n",
       "                                            max_cat_to_onehot=None,\n",
       "                                            max_delta_step=None, max_depth=25,\n",
       "                                            max_leaves=None,\n",
       "                                            min_child_weight=None, missing=nan,\n",
       "                                            monotone_constraints=None,\n",
       "                                            multi_strategy=None,\n",
       "                                            n_estimators=1000, n_jobs=None,\n",
       "                                            num_parallel_tree=None,\n",
       "                                            objective=&#x27;reg:logistic&#x27;, ...)),\n",
       "                             (&#x27;svm&#x27;, SVC(C=0.1, kernel=&#x27;linear&#x27;))])</pre><b>In a Jupyter environment, please rerun this cell to show the HTML representation or trust the notebook. <br />On GitHub, the HTML representation is unable to render, please try loading this page with nbviewer.org.</b></div><div class=\"sk-container\" hidden><div class=\"sk-item sk-dashed-wrapped\"><div class=\"sk-label-container\"><div class=\"sk-label sk-toggleable\"><input class=\"sk-toggleable__control sk-hidden--visually\" id=\"sk-estimator-id-1\" type=\"checkbox\" ><label for=\"sk-estimator-id-1\" class=\"sk-toggleable__label sk-toggleable__label-arrow\">VotingClassifier</label><div class=\"sk-toggleable__content\"><pre>VotingClassifier(estimators=[(&#x27;rf&#x27;,\n",
       "                              RandomForestClassifier(max_depth=28,\n",
       "                                                     max_features=22,\n",
       "                                                     n_estimators=551,\n",
       "                                                     random_state=71)),\n",
       "                             (&#x27;xgb&#x27;,\n",
       "                              XGBClassifier(base_score=None, booster=None,\n",
       "                                            callbacks=None,\n",
       "                                            colsample_bylevel=None,\n",
       "                                            colsample_bynode=None,\n",
       "                                            colsample_bytree=0.8, device=None,\n",
       "                                            early_stopping_rounds=None,\n",
       "                                            enable_categorical=False,\n",
       "                                            eval_metric=None,\n",
       "                                            feature_types=No...\n",
       "                                            interaction_constraints=None,\n",
       "                                            learning_rate=0.01, max_bin=None,\n",
       "                                            max_cat_threshold=None,\n",
       "                                            max_cat_to_onehot=None,\n",
       "                                            max_delta_step=None, max_depth=25,\n",
       "                                            max_leaves=None,\n",
       "                                            min_child_weight=None, missing=nan,\n",
       "                                            monotone_constraints=None,\n",
       "                                            multi_strategy=None,\n",
       "                                            n_estimators=1000, n_jobs=None,\n",
       "                                            num_parallel_tree=None,\n",
       "                                            objective=&#x27;reg:logistic&#x27;, ...)),\n",
       "                             (&#x27;svm&#x27;, SVC(C=0.1, kernel=&#x27;linear&#x27;))])</pre></div></div></div><div class=\"sk-parallel\"><div class=\"sk-parallel-item\"><div class=\"sk-item\"><div class=\"sk-label-container\"><div class=\"sk-label sk-toggleable\"><label>rf</label></div></div><div class=\"sk-serial\"><div class=\"sk-item\"><div class=\"sk-estimator sk-toggleable\"><input class=\"sk-toggleable__control sk-hidden--visually\" id=\"sk-estimator-id-2\" type=\"checkbox\" ><label for=\"sk-estimator-id-2\" class=\"sk-toggleable__label sk-toggleable__label-arrow\">RandomForestClassifier</label><div class=\"sk-toggleable__content\"><pre>RandomForestClassifier(max_depth=28, max_features=22, n_estimators=551,\n",
       "                       random_state=71)</pre></div></div></div></div></div></div><div class=\"sk-parallel-item\"><div class=\"sk-item\"><div class=\"sk-label-container\"><div class=\"sk-label sk-toggleable\"><label>xgb</label></div></div><div class=\"sk-serial\"><div class=\"sk-item\"><div class=\"sk-estimator sk-toggleable\"><input class=\"sk-toggleable__control sk-hidden--visually\" id=\"sk-estimator-id-3\" type=\"checkbox\" ><label for=\"sk-estimator-id-3\" class=\"sk-toggleable__label sk-toggleable__label-arrow\">XGBClassifier</label><div class=\"sk-toggleable__content\"><pre>XGBClassifier(base_score=None, booster=None, callbacks=None,\n",
       "              colsample_bylevel=None, colsample_bynode=None,\n",
       "              colsample_bytree=0.8, device=None, early_stopping_rounds=None,\n",
       "              enable_categorical=False, eval_metric=None, feature_types=None,\n",
       "              gamma=0.3, grow_policy=None, importance_type=None,\n",
       "              interaction_constraints=None, learning_rate=0.01, max_bin=None,\n",
       "              max_cat_threshold=None, max_cat_to_onehot=None,\n",
       "              max_delta_step=None, max_depth=25, max_leaves=None,\n",
       "              min_child_weight=None, missing=nan, monotone_constraints=None,\n",
       "              multi_strategy=None, n_estimators=1000, n_jobs=None,\n",
       "              num_parallel_tree=None, objective=&#x27;reg:logistic&#x27;, ...)</pre></div></div></div></div></div></div><div class=\"sk-parallel-item\"><div class=\"sk-item\"><div class=\"sk-label-container\"><div class=\"sk-label sk-toggleable\"><label>svm</label></div></div><div class=\"sk-serial\"><div class=\"sk-item\"><div class=\"sk-estimator sk-toggleable\"><input class=\"sk-toggleable__control sk-hidden--visually\" id=\"sk-estimator-id-4\" type=\"checkbox\" ><label for=\"sk-estimator-id-4\" class=\"sk-toggleable__label sk-toggleable__label-arrow\">SVC</label><div class=\"sk-toggleable__content\"><pre>SVC(C=0.1, kernel=&#x27;linear&#x27;)</pre></div></div></div></div></div></div></div></div></div></div>"
      ],
      "text/plain": [
       "VotingClassifier(estimators=[('rf',\n",
       "                              RandomForestClassifier(max_depth=28,\n",
       "                                                     max_features=22,\n",
       "                                                     n_estimators=551,\n",
       "                                                     random_state=71)),\n",
       "                             ('xgb',\n",
       "                              XGBClassifier(base_score=None, booster=None,\n",
       "                                            callbacks=None,\n",
       "                                            colsample_bylevel=None,\n",
       "                                            colsample_bynode=None,\n",
       "                                            colsample_bytree=0.8, device=None,\n",
       "                                            early_stopping_rounds=None,\n",
       "                                            enable_categorical=False,\n",
       "                                            eval_metric=None,\n",
       "                                            feature_types=No...\n",
       "                                            interaction_constraints=None,\n",
       "                                            learning_rate=0.01, max_bin=None,\n",
       "                                            max_cat_threshold=None,\n",
       "                                            max_cat_to_onehot=None,\n",
       "                                            max_delta_step=None, max_depth=25,\n",
       "                                            max_leaves=None,\n",
       "                                            min_child_weight=None, missing=nan,\n",
       "                                            monotone_constraints=None,\n",
       "                                            multi_strategy=None,\n",
       "                                            n_estimators=1000, n_jobs=None,\n",
       "                                            num_parallel_tree=None,\n",
       "                                            objective='reg:logistic', ...)),\n",
       "                             ('svm', SVC(C=0.1, kernel='linear'))])"
      ]
     },
     "execution_count": 6,
     "metadata": {},
     "output_type": "execute_result"
    }
   ],
   "source": [
    "ensemble_model = VotingClassifier(estimators=[('rf', rf_model), ('xgb', xgb_model), ('svm', svm_classifier)], voting='hard')   \n",
    "\n",
    "ensemble_model.fit(x_train, y_train)  "
   ]
  },
  {
   "cell_type": "code",
   "execution_count": 7,
   "metadata": {},
   "outputs": [
    {
     "name": "stdout",
     "output_type": "stream",
     "text": [
      "Accuracy: 0.8827183047131896\n",
      "Precisión: 0.8840029397354238\n",
      "Recall: 0.8805514885309907\n",
      "F1-Score: 0.8822738386308068\n"
     ]
    }
   ],
   "source": [
    "ensemble_predictions = ensemble_model.predict(x_test)  \n",
    "ds_resultados=pd.DataFrame(zip(y_test, ensemble_predictions),columns=['test','pred'])\n",
    "\n",
    "#Observamos accuracy del modelo\n",
    "accuracy = accuracy_score(y_test, ensemble_predictions)\n",
    "print(\"Accuracy:\", accuracy)\n",
    "\n",
    "#Observamos la precision del modelo\n",
    "precision = precision_score(y_test, ensemble_predictions)\n",
    "print(\"Precisión:\", precision)\n",
    "\n",
    "#Observamos el recall del modelo\n",
    "recall = recall_score(y_test, ensemble_predictions)\n",
    "print(\"Recall:\", recall)\n",
    "\n",
    "#Observamos el F1 Score de este arbol\n",
    "f1 = f1_score(y_test, ensemble_predictions)\n",
    "print(\"F1-Score:\", f1)"
   ]
  },
  {
   "cell_type": "code",
   "execution_count": 122,
   "metadata": {},
   "outputs": [
    {
     "data": {
      "text/plain": [
       "Text(50.722222222222214, 0.5, 'True')"
      ]
     },
     "execution_count": 122,
     "metadata": {},
     "output_type": "execute_result"
    },
    {
     "data": {
      "image/png": "[encoded data removed]",
      "text/plain": [
       "<Figure size 640x480 with 2 Axes>"
      ]
     },
     "metadata": {},
     "output_type": "display_data"
    }
   ],
   "source": [
    "tabla=confusion_matrix(y_test, ensemble_predictions)\n",
    "\n",
    "#Grafico la matriz de confusión\n",
    "sns.heatmap(tabla,cmap='GnBu',annot=True,fmt='g')\n",
    "plt.xlabel('Predicted')\n",
    "plt.ylabel('True')"
   ]
  },
  {
   "cell_type": "code",
   "execution_count": 10,
   "metadata": {},
   "outputs": [],
   "source": [
    "ensemble_model = VotingClassifier(estimators=[('rf', rf_model), ('xgb', xgb_model), ('svm', svm_classifier)], voting='hard')  \n",
    "ensemble_model.fit(ds_trabajo_x, ds_trabajo_y)\n",
    "ensemble_predictions = ensemble_model.predict(data_test.drop('id', axis = 1))\n",
    "\n",
    "resultado = pd.DataFrame()\n",
    "resultado['id'] = data_test['id']\n",
    "resultado['is_canceled'] = ensemble_predictions\n",
    "#Comento esta linea para que no crear el archivo siempre\n",
    "resultado.to_csv('predicciones.csv', index=False)"
   ]
  },
  {
   "cell_type": "markdown",
   "metadata": {},
   "source": [
    "## Ensamble tipo stacking"
   ]
  },
  {
   "cell_type": "code",
   "execution_count": 72,
   "metadata": {},
   "outputs": [],
   "source": [
    "base_models = [\n",
    "    ('random_forest', rf_model),\n",
    "    ('xgb', xgb_model)\n",
    "]\n",
    "\n",
    "meta_model = LogisticRegressionCV(class_weight=None,\n",
    "                                  penalty='l1',\n",
    "                                  solver='liblinear',\n",
    "                                  random_state=30 \n",
    "                                  )\n",
    "\n",
    "stacking_model = StackingClassifier(estimators=base_models, \n",
    "                                    final_estimator=meta_model, \n",
    "                                    passthrough=True, \n",
    "                                    cv=10,\n",
    "                                    verbose=2)"
   ]
  },
  {
   "cell_type": "code",
   "execution_count": 27,
   "metadata": {},
   "outputs": [
    {
     "name": "stdout",
     "output_type": "stream",
     "text": [
      "Accuracy: 0.886006576543661\n",
      "Precisión: 0.8919681177191907\n",
      "Recall: 0.880096793708409\n",
      "F1-Score: 0.8859926918392206\n"
     ]
    }
   ],
   "source": [
    "#Evaluo en conjunto de test\n",
    "stacking_model.fit(x_train,y_train)\n",
    "st_predictions = stacking_model.predict(x_test)\n",
    "ds_resultados=pd.DataFrame(zip(y_test, st_predictions),columns=['test','pred'])\n",
    "\n",
    "#Observamos accuracy del modelo\n",
    "accuracy = accuracy_score(y_test, st_predictions)\n",
    "print(\"Accuracy:\", accuracy)\n",
    "\n",
    "#Observamos la precision del modelo\n",
    "precision = precision_score(y_test, st_predictions)\n",
    "print(\"Precisión:\", precision)\n",
    "\n",
    "#Observamos el recall del modelo\n",
    "recall = recall_score(y_test, st_predictions)\n",
    "print(\"Recall:\", recall)\n",
    "\n",
    "#Observamos el F1 Score de este arbol\n",
    "f1 = f1_score(y_test, st_predictions)\n",
    "print(\"F1-Score:\", f1)"
   ]
  },
  {
   "cell_type": "code",
   "execution_count": 14,
   "metadata": {},
   "outputs": [
    {
     "data": {
      "text/plain": [
       "Text(50.722222222222214, 0.5, 'True')"
      ]
     },
     "execution_count": 14,
     "metadata": {},
     "output_type": "execute_result"
    },
    {
     "data": {
      "image/png": "[encoded data removed]",
      "text/plain": [
       "<Figure size 640x480 with 2 Axes>"
      ]
     },
     "metadata": {},
     "output_type": "display_data"
    }
   ],
   "source": [
    "tabla=confusion_matrix(y_test, st_predictions)\n",
    "\n",
    "#Grafico la matriz de confusión\n",
    "sns.heatmap(tabla,cmap='GnBu',annot=True,fmt='g')\n",
    "plt.xlabel('Predicted')\n",
    "plt.ylabel('True')"
   ]
  },
  {
   "cell_type": "code",
   "execution_count": 73,
   "metadata": {},
   "outputs": [],
   "source": [
    "stacking_model.fit(ds_trabajo_x, ds_trabajo_y)\n",
    "y_pred = stacking_model.predict(data_test.drop('id', axis = 1))\n",
    "\n",
    "resultado = pd.DataFrame()\n",
    "resultado['id'] = data_test['id']\n",
    "resultado['is_canceled'] = y_pred\n",
    "#Comento esta linea para que no crear el archivo siempre\n",
    "resultado.to_csv('predicciones.csv', index=False)"
   ]
  },
  {
   "cell_type": "markdown",
   "metadata": {},
   "source": [
    "# Redes neuronales"
   ]
  },
  {
   "cell_type": "code",
   "execution_count": 128,
   "metadata": {},
   "outputs": [],
   "source": [
    "x_train = x_train.astype('float32')\n",
    "y_train = y_train.astype('float32')\n",
    "x_test = x_test.astype('float32')\n",
    "y_test = y_test.astype('float32')"
   ]
  },
  {
   "cell_type": "code",
   "execution_count": 58,
   "metadata": {},
   "outputs": [
    {
     "name": "stdout",
     "output_type": "stream",
     "text": [
      "Model: \"sequential_18\"\n",
      "_________________________________________________________________\n",
      " Layer (type)                Output Shape              Param #   \n",
      "=================================================================\n",
      " dense_55 (Dense)            (None, 64)                3072      \n",
      "                                                                 \n",
      " dense_56 (Dense)            (None, 1)                 65        \n",
      "                                                                 \n",
      "=================================================================\n",
      "Total params: 3137 (12.25 KB)\n",
      "Trainable params: 3137 (12.25 KB)\n",
      "Non-trainable params: 0 (0.00 Byte)\n",
      "_________________________________________________________________\n"
     ]
    },
    {
     "name": "stdout",
     "output_type": "stream",
     "text": [
      "Epoch 1/50\n",
      "767/767 [==============================] - 1s 752us/step - loss: 8.4357 - accuracy: 0.6697\n",
      "Epoch 2/50\n",
      "767/767 [==============================] - 1s 817us/step - loss: 0.6468 - accuracy: 0.7378\n",
      "Epoch 3/50\n",
      "767/767 [==============================] - 1s 725us/step - loss: 0.7132 - accuracy: 0.7369\n",
      "Epoch 4/50\n",
      "767/767 [==============================] - 1s 712us/step - loss: 0.7182 - accuracy: 0.7411\n",
      "Epoch 5/50\n",
      "767/767 [==============================] - 1s 733us/step - loss: 0.6306 - accuracy: 0.7524\n",
      "Epoch 6/50\n",
      "767/767 [==============================] - 1s 724us/step - loss: 0.6909 - accuracy: 0.7415\n",
      "Epoch 7/50\n",
      "767/767 [==============================] - 1s 704us/step - loss: 0.6915 - accuracy: 0.7452\n",
      "Epoch 8/50\n",
      "767/767 [==============================] - 1s 751us/step - loss: 0.7339 - accuracy: 0.7439\n",
      "Epoch 9/50\n",
      "767/767 [==============================] - 1s 834us/step - loss: 0.6953 - accuracy: 0.7489\n",
      "Epoch 10/50\n",
      "767/767 [==============================] - 1s 751us/step - loss: 0.6808 - accuracy: 0.7507\n",
      "Epoch 11/50\n",
      "767/767 [==============================] - 1s 817us/step - loss: 0.6850 - accuracy: 0.7475\n",
      "Epoch 12/50\n",
      "767/767 [==============================] - 1s 788us/step - loss: 0.7317 - accuracy: 0.7463\n",
      "Epoch 13/50\n",
      "767/767 [==============================] - 1s 740us/step - loss: 0.6998 - accuracy: 0.7495\n",
      "Epoch 14/50\n",
      "767/767 [==============================] - 1s 803us/step - loss: 0.6891 - accuracy: 0.7506\n",
      "Epoch 15/50\n",
      "767/767 [==============================] - 1s 775us/step - loss: 0.6831 - accuracy: 0.7488\n",
      "Epoch 16/50\n",
      "767/767 [==============================] - 1s 748us/step - loss: 0.6414 - accuracy: 0.7501\n",
      "Epoch 17/50\n",
      "767/767 [==============================] - 1s 733us/step - loss: 0.6961 - accuracy: 0.7458\n",
      "Epoch 18/50\n",
      "767/767 [==============================] - 1s 778us/step - loss: 0.7831 - accuracy: 0.7400\n",
      "Epoch 19/50\n",
      "767/767 [==============================] - 1s 746us/step - loss: 0.6254 - accuracy: 0.7600\n",
      "Epoch 20/50\n",
      "767/767 [==============================] - 1s 748us/step - loss: 0.6794 - accuracy: 0.7466\n",
      "Epoch 21/50\n",
      "767/767 [==============================] - 1s 773us/step - loss: 0.6455 - accuracy: 0.7522\n",
      "Epoch 22/50\n",
      "767/767 [==============================] - 1s 774us/step - loss: 0.6766 - accuracy: 0.7495\n",
      "Epoch 23/50\n",
      "767/767 [==============================] - 1s 780us/step - loss: 0.6332 - accuracy: 0.7541\n",
      "Epoch 24/50\n",
      "767/767 [==============================] - 1s 747us/step - loss: 0.6905 - accuracy: 0.7450\n",
      "Epoch 25/50\n",
      "767/767 [==============================] - 1s 849us/step - loss: 0.6358 - accuracy: 0.7546\n",
      "Epoch 26/50\n",
      "767/767 [==============================] - 1s 801us/step - loss: 0.7019 - accuracy: 0.7460\n",
      "Epoch 27/50\n",
      "767/767 [==============================] - 1s 699us/step - loss: 0.7211 - accuracy: 0.7461\n",
      "Epoch 28/50\n",
      "767/767 [==============================] - 1s 779us/step - loss: 0.7235 - accuracy: 0.7462\n",
      "Epoch 29/50\n",
      "767/767 [==============================] - 1s 768us/step - loss: 0.6476 - accuracy: 0.7528\n",
      "Epoch 30/50\n",
      "767/767 [==============================] - 1s 762us/step - loss: 0.6093 - accuracy: 0.7536\n",
      "Epoch 31/50\n",
      "767/767 [==============================] - 1s 740us/step - loss: 0.6403 - accuracy: 0.7515\n",
      "Epoch 32/50\n",
      "767/767 [==============================] - 1s 770us/step - loss: 0.6698 - accuracy: 0.7492\n",
      "Epoch 33/50\n",
      "767/767 [==============================] - 1s 738us/step - loss: 0.6385 - accuracy: 0.7569\n",
      "Epoch 34/50\n",
      "767/767 [==============================] - 1s 733us/step - loss: 0.5879 - accuracy: 0.7590\n",
      "Epoch 35/50\n",
      "767/767 [==============================] - 1s 762us/step - loss: 0.7238 - accuracy: 0.7411\n",
      "Epoch 36/50\n",
      "767/767 [==============================] - 1s 709us/step - loss: 0.6406 - accuracy: 0.7563\n",
      "Epoch 37/50\n",
      "767/767 [==============================] - 1s 784us/step - loss: 0.6463 - accuracy: 0.7511\n",
      "Epoch 38/50\n",
      "767/767 [==============================] - 1s 721us/step - loss: 0.6441 - accuracy: 0.7529\n",
      "Epoch 39/50\n",
      "767/767 [==============================] - 1s 709us/step - loss: 0.6441 - accuracy: 0.7506\n",
      "Epoch 40/50\n",
      "767/767 [==============================] - 1s 745us/step - loss: 0.6515 - accuracy: 0.7481\n",
      "Epoch 41/50\n",
      "767/767 [==============================] - 1s 835us/step - loss: 0.6288 - accuracy: 0.7511\n",
      "Epoch 42/50\n",
      "767/767 [==============================] - 1s 736us/step - loss: 0.6112 - accuracy: 0.7521\n",
      "Epoch 43/50\n",
      "767/767 [==============================] - 1s 786us/step - loss: 0.5892 - accuracy: 0.7552\n",
      "Epoch 44/50\n",
      "767/767 [==============================] - 1s 761us/step - loss: 0.6345 - accuracy: 0.7529\n",
      "Epoch 45/50\n",
      "767/767 [==============================] - 1s 729us/step - loss: 0.6469 - accuracy: 0.7496\n",
      "Epoch 46/50\n",
      "767/767 [==============================] - 1s 748us/step - loss: 0.6268 - accuracy: 0.7502\n",
      "Epoch 47/50\n",
      "767/767 [==============================] - 1s 742us/step - loss: 0.6036 - accuracy: 0.7557\n",
      "Epoch 48/50\n",
      "767/767 [==============================] - 1s 752us/step - loss: 0.5815 - accuracy: 0.7577\n",
      "Epoch 49/50\n",
      "767/767 [==============================] - 1s 768us/step - loss: 0.5772 - accuracy: 0.7567\n",
      "Epoch 50/50\n",
      "767/767 [==============================] - 1s 727us/step - loss: 0.6715 - accuracy: 0.7450\n"
     ]
    }
   ],
   "source": [
    "cant_clases=1\n",
    "d_in = x_train.shape[1]\n",
    "\n",
    "modelo1 = Sequential([\n",
    "    keras.layers.Dense(64, input_shape=(d_in,)),\n",
    "    keras.layers.Dense(cant_clases, activation='sigmoid')])\n",
    "\n",
    "modelo1.summary()\n",
    "\n",
    "modelo1.compile(\n",
    "  optimizer=tf.keras.optimizers.Adam(learning_rate=0.001),\n",
    "  loss='binary_crossentropy',\n",
    "  metrics=['accuracy']\n",
    ")\n",
    "\n",
    "cant_epochs=50\n",
    "\n",
    "modelo_h1 = modelo1.fit(x_train,y_train,\n",
    "                    epochs=cant_epochs,\n",
    "                    batch_size=50,verbose='auto')"
   ]
  },
  {
   "cell_type": "code",
   "execution_count": 59,
   "metadata": {},
   "outputs": [
    {
     "name": "stdout",
     "output_type": "stream",
     "text": [
      "514/514 [==============================] - 0s 538us/step\n"
     ]
    },
    {
     "data": {
      "image/png": "[encoded data removed]",
      "text/plain": [
       "<Figure size 800x600 with 2 Axes>"
      ]
     },
     "metadata": {},
     "output_type": "display_data"
    }
   ],
   "source": [
    "predicciones = modelo1.predict(x_test)\n",
    "umbral = 0.5\n",
    "predicciones_binarias = (predicciones > umbral).astype(int)\n",
    "\n",
    "cm = confusion_matrix(y_test, predicciones_binarias)\n",
    "\n",
    "plt.figure(figsize=(8, 6))\n",
    "sns.heatmap(cm, annot=True, fmt=\"d\", cmap=\"Blues\")\n",
    "plt.xlabel(\"Predicción\")\n",
    "plt.ylabel(\"Real\")\n",
    "plt.title(\"Matriz de Confusión\")\n",
    "plt.show()"
   ]
  },
  {
   "cell_type": "code",
   "execution_count": 60,
   "metadata": {},
   "outputs": [
    {
     "name": "stdout",
     "output_type": "stream",
     "text": [
      "514/514 [==============================] - 0s 525us/step\n",
      "Accuracy: 0.7433930093776641\n",
      "Precisión: 0.9214648602878917\n",
      "Recall: 0.531112737920937\n",
      "F1-Score: 0.6738390092879257\n"
     ]
    }
   ],
   "source": [
    "predicciones = modelo1.predict(x_test)\n",
    "\n",
    "umbral = 0.5\n",
    "predicciones_binarias = [1 if p > umbral else 0 for p in predicciones]\n",
    "\n",
    "accuracy = accuracy_score(y_test, predicciones_binarias)\n",
    "precision = precision_score(y_test, predicciones_binarias)\n",
    "recall = recall_score(y_test, predicciones_binarias)\n",
    "f1 = f1_score(y_test, predicciones_binarias)\n",
    "\n",
    "print(\"Accuracy:\", accuracy)\n",
    "print(\"Precisión:\", precision)\n",
    "print(\"Recall:\", recall)\n",
    "print(\"F1-Score:\", f1)"
   ]
  },
  {
   "cell_type": "markdown",
   "metadata": {},
   "source": [
    "Submit a kaggle"
   ]
  },
  {
   "cell_type": "code",
   "execution_count": 123,
   "metadata": {},
   "outputs": [
    {
     "name": "stdout",
     "output_type": "stream",
     "text": [
      "Model: \"sequential_48\"\n",
      "_________________________________________________________________\n",
      " Layer (type)                Output Shape              Param #   \n",
      "=================================================================\n",
      " dense_124 (Dense)           (None, 64)                3072      \n",
      "                                                                 \n",
      " dense_125 (Dense)           (None, 1)                 65        \n",
      "                                                                 \n",
      "=================================================================\n",
      "Total params: 3137 (12.25 KB)\n",
      "Trainable params: 3137 (12.25 KB)\n",
      "Non-trainable params: 0 (0.00 Byte)\n",
      "_________________________________________________________________\n"
     ]
    },
    {
     "name": "stdout",
     "output_type": "stream",
     "text": [
      "830/830 [==============================] - 0s 497us/step\n"
     ]
    }
   ],
   "source": [
    "d_in = ds_trabajo_x.shape[1]\n",
    "ds_trabajo_x = ds_trabajo_x.astype('float32')\n",
    "ds_trabajo_y = ds_trabajo_y.astype('float32')\n",
    "\n",
    "modelo1 = Sequential([\n",
    "    keras.layers.Dense(64, input_shape=(d_in,)),\n",
    "    keras.layers.Dense(cant_clases, activation='sigmoid')])\n",
    "\n",
    "modelo1.summary()\n",
    "\n",
    "modelo1.compile(\n",
    "  optimizer=tf.keras.optimizers.Adam(learning_rate=0.001),\n",
    "  loss='binary_crossentropy',\n",
    "  metrics=['accuracy']\n",
    ")\n",
    "\n",
    "cant_epochs=50\n",
    "\n",
    "modelo1.fit(ds_trabajo_x,ds_trabajo_y,\n",
    "                    epochs=cant_epochs,\n",
    "                    batch_size=50,verbose=False)\n",
    "\n",
    "dt_pred = data_test.drop(['id'], axis=1)\n",
    "dt_pred = dt_pred.astype('float32')\n",
    "\n",
    "y_pred = modelo1.predict(dt_pred)\n",
    "\n",
    "umbral = 0.5\n",
    "predicciones_binarias = [1 if p > umbral else 0 for p in y_pred]\n",
    "\n",
    "resultado = pd.DataFrame()\n",
    "resultado['id'] = data_test['id']\n",
    "resultado['is_canceled'] = predicciones_binarias\n",
    "#Comento esta linea para que no crear el archivo siempre\n",
    "resultado.to_csv('predicciones.csv', index=False)"
   ]
  },
  {
   "cell_type": "markdown",
   "metadata": {},
   "source": [
    "Buscamos mejorar hiperparametros a mano"
   ]
  },
  {
   "cell_type": "markdown",
   "metadata": {},
   "source": [
    "Normalizamos los datos"
   ]
  },
  {
   "cell_type": "code",
   "execution_count": 130,
   "metadata": {},
   "outputs": [],
   "source": [
    "scaler = StandardScaler()\n",
    "X_train_scaled = scaler.fit_transform(x_train)\n",
    "X_test_scaled = scaler.transform(x_test)"
   ]
  },
  {
   "cell_type": "code",
   "execution_count": 62,
   "metadata": {},
   "outputs": [
    {
     "name": "stdout",
     "output_type": "stream",
     "text": [
      "Model: \"sequential_19\"\n",
      "_________________________________________________________________\n",
      " Layer (type)                Output Shape              Param #   \n",
      "=================================================================\n",
      " dense_57 (Dense)            (None, 32)                1536      \n",
      "                                                                 \n",
      " dense_58 (Dense)            (None, 16)                528       \n",
      "                                                                 \n",
      " dropout_13 (Dropout)        (None, 16)                0         \n",
      "                                                                 \n",
      " dense_59 (Dense)            (None, 1)                 17        \n",
      "                                                                 \n",
      "=================================================================\n",
      "Total params: 2081 (8.13 KB)\n",
      "Trainable params: 2081 (8.13 KB)\n",
      "Non-trainable params: 0 (0.00 Byte)\n",
      "_________________________________________________________________\n"
     ]
    },
    {
     "name": "stdout",
     "output_type": "stream",
     "text": [
      "Epoch 1/120\n",
      "767/767 [==============================] - 1s 905us/step - loss: 0.5481 - accuracy: 0.7877\n",
      "Epoch 2/120\n",
      "767/767 [==============================] - 1s 828us/step - loss: 0.3971 - accuracy: 0.8221\n",
      "Epoch 3/120\n",
      "767/767 [==============================] - 1s 877us/step - loss: 0.3804 - accuracy: 0.8252\n",
      "Epoch 4/120\n",
      "767/767 [==============================] - 1s 892us/step - loss: 0.3714 - accuracy: 0.8300\n",
      "Epoch 5/120\n",
      "767/767 [==============================] - 1s 833us/step - loss: 0.3663 - accuracy: 0.8333\n",
      "Epoch 6/120\n",
      "767/767 [==============================] - 1s 799us/step - loss: 0.3608 - accuracy: 0.8360\n",
      "Epoch 7/120\n",
      "767/767 [==============================] - 1s 864us/step - loss: 0.3591 - accuracy: 0.8354\n",
      "Epoch 8/120\n",
      "767/767 [==============================] - 1s 831us/step - loss: 0.3565 - accuracy: 0.8373\n",
      "Epoch 9/120\n",
      "767/767 [==============================] - 1s 921us/step - loss: 0.3539 - accuracy: 0.8399\n",
      "Epoch 10/120\n",
      "767/767 [==============================] - 1s 872us/step - loss: 0.3522 - accuracy: 0.8384\n",
      "Epoch 11/120\n",
      "767/767 [==============================] - 1s 886us/step - loss: 0.3497 - accuracy: 0.8394\n",
      "Epoch 12/120\n",
      "767/767 [==============================] - 1s 903us/step - loss: 0.3490 - accuracy: 0.8419\n",
      "Epoch 13/120\n",
      "767/767 [==============================] - 1s 872us/step - loss: 0.3472 - accuracy: 0.8419\n",
      "Epoch 14/120\n",
      "767/767 [==============================] - 1s 865us/step - loss: 0.3466 - accuracy: 0.8448\n",
      "Epoch 15/120\n",
      "767/767 [==============================] - 1s 814us/step - loss: 0.3466 - accuracy: 0.8439\n",
      "Epoch 16/120\n",
      "767/767 [==============================] - 1s 847us/step - loss: 0.3456 - accuracy: 0.8451\n",
      "Epoch 17/120\n",
      "767/767 [==============================] - 1s 865us/step - loss: 0.3432 - accuracy: 0.8455\n",
      "Epoch 18/120\n",
      "767/767 [==============================] - 1s 843us/step - loss: 0.3427 - accuracy: 0.8461\n",
      "Epoch 19/120\n",
      "767/767 [==============================] - 1s 973us/step - loss: 0.3424 - accuracy: 0.8446\n",
      "Epoch 20/120\n",
      "767/767 [==============================] - 1s 855us/step - loss: 0.3412 - accuracy: 0.8459\n",
      "Epoch 21/120\n",
      "767/767 [==============================] - 1s 905us/step - loss: 0.3407 - accuracy: 0.8459\n",
      "Epoch 22/120\n",
      "767/767 [==============================] - 1s 833us/step - loss: 0.3391 - accuracy: 0.8476\n",
      "Epoch 23/120\n",
      "767/767 [==============================] - 1s 902us/step - loss: 0.3398 - accuracy: 0.8475\n",
      "Epoch 24/120\n",
      "767/767 [==============================] - 1s 854us/step - loss: 0.3397 - accuracy: 0.8472\n",
      "Epoch 25/120\n",
      "767/767 [==============================] - 1s 792us/step - loss: 0.3379 - accuracy: 0.8473\n",
      "Epoch 26/120\n",
      "767/767 [==============================] - 1s 757us/step - loss: 0.3381 - accuracy: 0.8486\n",
      "Epoch 27/120\n",
      "767/767 [==============================] - 1s 813us/step - loss: 0.3378 - accuracy: 0.8466\n",
      "Epoch 28/120\n",
      "767/767 [==============================] - 1s 830us/step - loss: 0.3373 - accuracy: 0.8491\n",
      "Epoch 29/120\n",
      "767/767 [==============================] - 1s 820us/step - loss: 0.3368 - accuracy: 0.8477\n",
      "Epoch 30/120\n",
      "767/767 [==============================] - 1s 821us/step - loss: 0.3357 - accuracy: 0.8493\n",
      "Epoch 31/120\n",
      "767/767 [==============================] - 1s 829us/step - loss: 0.3361 - accuracy: 0.8504\n",
      "Epoch 32/120\n",
      "767/767 [==============================] - 1s 784us/step - loss: 0.3356 - accuracy: 0.8497\n",
      "Epoch 33/120\n",
      "767/767 [==============================] - 1s 860us/step - loss: 0.3356 - accuracy: 0.8496\n",
      "Epoch 34/120\n",
      "767/767 [==============================] - 1s 860us/step - loss: 0.3339 - accuracy: 0.8510\n",
      "Epoch 35/120\n",
      "767/767 [==============================] - 1s 809us/step - loss: 0.3334 - accuracy: 0.8530\n",
      "Epoch 36/120\n",
      "767/767 [==============================] - 1s 815us/step - loss: 0.3334 - accuracy: 0.8505\n",
      "Epoch 37/120\n",
      "767/767 [==============================] - 1s 773us/step - loss: 0.3334 - accuracy: 0.8503\n",
      "Epoch 38/120\n",
      "767/767 [==============================] - 1s 844us/step - loss: 0.3338 - accuracy: 0.8521\n",
      "Epoch 39/120\n",
      "767/767 [==============================] - 1s 809us/step - loss: 0.3320 - accuracy: 0.8520\n",
      "Epoch 40/120\n",
      "767/767 [==============================] - 1s 770us/step - loss: 0.3340 - accuracy: 0.8510\n",
      "Epoch 41/120\n",
      "767/767 [==============================] - 1s 830us/step - loss: 0.3327 - accuracy: 0.8503\n",
      "Epoch 42/120\n",
      "767/767 [==============================] - 1s 840us/step - loss: 0.3319 - accuracy: 0.8521\n",
      "Epoch 43/120\n",
      "767/767 [==============================] - 1s 802us/step - loss: 0.3325 - accuracy: 0.8509\n",
      "Epoch 44/120\n",
      "767/767 [==============================] - 1s 847us/step - loss: 0.3314 - accuracy: 0.8527\n",
      "Epoch 45/120\n",
      "767/767 [==============================] - 1s 778us/step - loss: 0.3325 - accuracy: 0.8529\n",
      "Epoch 46/120\n",
      "767/767 [==============================] - 1s 830us/step - loss: 0.3318 - accuracy: 0.8525\n",
      "Epoch 47/120\n",
      "767/767 [==============================] - 1s 813us/step - loss: 0.3312 - accuracy: 0.8521\n",
      "Epoch 48/120\n",
      "767/767 [==============================] - 1s 845us/step - loss: 0.3319 - accuracy: 0.8524\n",
      "Epoch 49/120\n",
      "767/767 [==============================] - 1s 824us/step - loss: 0.3318 - accuracy: 0.8516\n",
      "Epoch 50/120\n",
      "767/767 [==============================] - 1s 759us/step - loss: 0.3316 - accuracy: 0.8529\n",
      "Epoch 51/120\n",
      "767/767 [==============================] - 1s 765us/step - loss: 0.3307 - accuracy: 0.8532\n",
      "Epoch 52/120\n",
      "767/767 [==============================] - 1s 868us/step - loss: 0.3303 - accuracy: 0.8529\n",
      "Epoch 53/120\n",
      "767/767 [==============================] - 1s 848us/step - loss: 0.3314 - accuracy: 0.8520\n",
      "Epoch 54/120\n",
      "767/767 [==============================] - 1s 823us/step - loss: 0.3302 - accuracy: 0.8543\n",
      "Epoch 55/120\n",
      "767/767 [==============================] - 1s 772us/step - loss: 0.3315 - accuracy: 0.8514\n",
      "Epoch 56/120\n",
      "767/767 [==============================] - 1s 832us/step - loss: 0.3307 - accuracy: 0.8537\n",
      "Epoch 57/120\n",
      "767/767 [==============================] - 1s 812us/step - loss: 0.3319 - accuracy: 0.8515\n",
      "Epoch 58/120\n",
      "767/767 [==============================] - 1s 798us/step - loss: 0.3293 - accuracy: 0.8537\n",
      "Epoch 59/120\n",
      "767/767 [==============================] - 1s 878us/step - loss: 0.3308 - accuracy: 0.8524\n",
      "Epoch 60/120\n",
      "767/767 [==============================] - 1s 810us/step - loss: 0.3294 - accuracy: 0.8548\n",
      "Epoch 61/120\n",
      "767/767 [==============================] - 1s 864us/step - loss: 0.3302 - accuracy: 0.8549\n",
      "Epoch 62/120\n",
      "767/767 [==============================] - 1s 855us/step - loss: 0.3302 - accuracy: 0.8536\n",
      "Epoch 63/120\n",
      "767/767 [==============================] - 1s 824us/step - loss: 0.3299 - accuracy: 0.8540\n",
      "Epoch 64/120\n",
      "767/767 [==============================] - 1s 805us/step - loss: 0.3292 - accuracy: 0.8530\n",
      "Epoch 65/120\n",
      "767/767 [==============================] - 1s 821us/step - loss: 0.3308 - accuracy: 0.8531\n",
      "Epoch 66/120\n",
      "767/767 [==============================] - 1s 816us/step - loss: 0.3298 - accuracy: 0.8553\n",
      "Epoch 67/120\n",
      "767/767 [==============================] - 1s 826us/step - loss: 0.3307 - accuracy: 0.8532\n",
      "Epoch 68/120\n",
      "767/767 [==============================] - 1s 805us/step - loss: 0.3291 - accuracy: 0.8548\n",
      "Epoch 69/120\n",
      "767/767 [==============================] - 1s 833us/step - loss: 0.3288 - accuracy: 0.8531\n",
      "Epoch 70/120\n",
      "767/767 [==============================] - 1s 872us/step - loss: 0.3292 - accuracy: 0.8557\n",
      "Epoch 71/120\n",
      "767/767 [==============================] - 1s 825us/step - loss: 0.3305 - accuracy: 0.8536\n",
      "Epoch 72/120\n",
      "767/767 [==============================] - 1s 799us/step - loss: 0.3282 - accuracy: 0.8548\n",
      "Epoch 73/120\n",
      "767/767 [==============================] - 1s 855us/step - loss: 0.3302 - accuracy: 0.8545\n",
      "Epoch 74/120\n",
      "767/767 [==============================] - 1s 816us/step - loss: 0.3295 - accuracy: 0.8542\n",
      "Epoch 75/120\n",
      "767/767 [==============================] - 1s 802us/step - loss: 0.3284 - accuracy: 0.8536\n",
      "Epoch 76/120\n",
      "767/767 [==============================] - 1s 814us/step - loss: 0.3293 - accuracy: 0.8544\n",
      "Epoch 77/120\n",
      "767/767 [==============================] - 1s 785us/step - loss: 0.3273 - accuracy: 0.8560\n",
      "Epoch 78/120\n",
      "767/767 [==============================] - 1s 858us/step - loss: 0.3280 - accuracy: 0.8542\n",
      "Epoch 79/120\n",
      "767/767 [==============================] - 1s 819us/step - loss: 0.3291 - accuracy: 0.8530\n",
      "Epoch 80/120\n",
      "767/767 [==============================] - 1s 778us/step - loss: 0.3284 - accuracy: 0.8531\n",
      "Epoch 81/120\n",
      "767/767 [==============================] - 1s 812us/step - loss: 0.3300 - accuracy: 0.8541\n",
      "Epoch 82/120\n",
      "767/767 [==============================] - 1s 804us/step - loss: 0.3286 - accuracy: 0.8551\n",
      "Epoch 83/120\n",
      "767/767 [==============================] - 1s 813us/step - loss: 0.3281 - accuracy: 0.8547\n",
      "Epoch 84/120\n",
      "767/767 [==============================] - 1s 821us/step - loss: 0.3283 - accuracy: 0.8531\n",
      "Epoch 85/120\n",
      "767/767 [==============================] - 1s 859us/step - loss: 0.3275 - accuracy: 0.8545\n",
      "Epoch 86/120\n",
      "767/767 [==============================] - 1s 845us/step - loss: 0.3286 - accuracy: 0.8550\n",
      "Epoch 87/120\n",
      "767/767 [==============================] - 1s 848us/step - loss: 0.3285 - accuracy: 0.8549\n",
      "Epoch 88/120\n",
      "767/767 [==============================] - 1s 822us/step - loss: 0.3289 - accuracy: 0.8551\n",
      "Epoch 89/120\n",
      "767/767 [==============================] - 1s 829us/step - loss: 0.3281 - accuracy: 0.8553\n",
      "Epoch 90/120\n",
      "767/767 [==============================] - 1s 836us/step - loss: 0.3282 - accuracy: 0.8543\n",
      "Epoch 91/120\n",
      "767/767 [==============================] - 1s 891us/step - loss: 0.3290 - accuracy: 0.8549\n",
      "Epoch 92/120\n",
      "767/767 [==============================] - 1s 880us/step - loss: 0.3277 - accuracy: 0.8555\n",
      "Epoch 93/120\n",
      "767/767 [==============================] - 1s 831us/step - loss: 0.3279 - accuracy: 0.8551\n",
      "Epoch 94/120\n",
      "767/767 [==============================] - 1s 859us/step - loss: 0.3282 - accuracy: 0.8545\n",
      "Epoch 95/120\n",
      "767/767 [==============================] - 1s 817us/step - loss: 0.3279 - accuracy: 0.8548\n",
      "Epoch 96/120\n",
      "767/767 [==============================] - 1s 823us/step - loss: 0.3280 - accuracy: 0.8547\n",
      "Epoch 97/120\n",
      "767/767 [==============================] - 1s 813us/step - loss: 0.3273 - accuracy: 0.8558\n",
      "Epoch 98/120\n",
      "767/767 [==============================] - 1s 811us/step - loss: 0.3288 - accuracy: 0.8543\n",
      "Epoch 99/120\n",
      "767/767 [==============================] - 1s 781us/step - loss: 0.3274 - accuracy: 0.8563\n",
      "Epoch 100/120\n",
      "767/767 [==============================] - 1s 796us/step - loss: 0.3271 - accuracy: 0.8569\n",
      "Epoch 101/120\n",
      "767/767 [==============================] - 1s 816us/step - loss: 0.3269 - accuracy: 0.8571\n",
      "Epoch 102/120\n",
      "767/767 [==============================] - 1s 854us/step - loss: 0.3268 - accuracy: 0.8548\n",
      "Epoch 103/120\n",
      "767/767 [==============================] - 1s 826us/step - loss: 0.3276 - accuracy: 0.8563\n",
      "Epoch 104/120\n",
      "767/767 [==============================] - 1s 840us/step - loss: 0.3282 - accuracy: 0.8550\n",
      "Epoch 105/120\n",
      "767/767 [==============================] - 1s 854us/step - loss: 0.3270 - accuracy: 0.8562\n",
      "Epoch 106/120\n",
      "767/767 [==============================] - 1s 860us/step - loss: 0.3276 - accuracy: 0.8553\n",
      "Epoch 107/120\n",
      "767/767 [==============================] - 1s 857us/step - loss: 0.3279 - accuracy: 0.8565\n",
      "Epoch 108/120\n",
      "767/767 [==============================] - 1s 843us/step - loss: 0.3271 - accuracy: 0.8554\n",
      "Epoch 109/120\n",
      "767/767 [==============================] - 1s 852us/step - loss: 0.3286 - accuracy: 0.8547\n",
      "Epoch 110/120\n",
      "767/767 [==============================] - 1s 801us/step - loss: 0.3276 - accuracy: 0.8550\n",
      "Epoch 111/120\n",
      "767/767 [==============================] - 1s 838us/step - loss: 0.3283 - accuracy: 0.8540\n",
      "Epoch 112/120\n",
      "767/767 [==============================] - 1s 861us/step - loss: 0.3275 - accuracy: 0.8552\n",
      "Epoch 113/120\n",
      "767/767 [==============================] - 1s 849us/step - loss: 0.3265 - accuracy: 0.8560\n",
      "Epoch 114/120\n",
      "767/767 [==============================] - 1s 823us/step - loss: 0.3278 - accuracy: 0.8561\n",
      "Epoch 115/120\n",
      "767/767 [==============================] - 1s 779us/step - loss: 0.3265 - accuracy: 0.8559\n",
      "Epoch 116/120\n",
      "767/767 [==============================] - 1s 775us/step - loss: 0.3264 - accuracy: 0.8570\n",
      "Epoch 117/120\n",
      "767/767 [==============================] - 1s 875us/step - loss: 0.3280 - accuracy: 0.8544\n",
      "Epoch 118/120\n",
      "767/767 [==============================] - 1s 846us/step - loss: 0.3277 - accuracy: 0.8544\n",
      "Epoch 119/120\n",
      "767/767 [==============================] - 1s 873us/step - loss: 0.3282 - accuracy: 0.8551\n",
      "Epoch 120/120\n",
      "767/767 [==============================] - 1s 822us/step - loss: 0.3261 - accuracy: 0.8568\n"
     ]
    }
   ],
   "source": [
    "modelo2 = Sequential([\n",
    "    keras.layers.Dense(32, input_shape=(d_in,),activation='relu',kernel_regularizer=keras.regularizers.l2(0.01)),\n",
    "    keras.layers.Dense(16, activation='relu'),\n",
    "    keras.layers.Dropout(0.01),\n",
    "    keras.layers.Dense(cant_clases, activation='sigmoid')])\n",
    "\n",
    "modelo2.summary()\n",
    "\n",
    "modelo2.compile(\n",
    "  optimizer=tf.keras.optimizers.Adam(learning_rate=0.001),\n",
    "  loss='binary_crossentropy',\n",
    "  metrics=['accuracy']\n",
    ")\n",
    "\n",
    "cant_epochs=120\n",
    "\n",
    "modelo_h = modelo2.fit(X_train_scaled,y_train,\n",
    "                    epochs=cant_epochs,\n",
    "                    batch_size=50,verbose='auto')"
   ]
  },
  {
   "cell_type": "code",
   "execution_count": 64,
   "metadata": {},
   "outputs": [
    {
     "name": "stdout",
     "output_type": "stream",
     "text": [
      "  1/514 [..............................] - ETA: 7s"
     ]
    },
    {
     "name": "stdout",
     "output_type": "stream",
     "text": [
      "514/514 [==============================] - 0s 548us/step\n",
      "Accuracy: 0.8508707830958471\n",
      "Precisión: 0.8626782784298876\n",
      "Recall: 0.8339433870180576\n",
      "F1-Score: 0.848067497983746\n"
     ]
    }
   ],
   "source": [
    "predicciones = modelo2.predict(X_test_scaled)\n",
    "\n",
    "umbral = 0.5\n",
    "predicciones_binarias = [1 if p > umbral else 0 for p in predicciones]\n",
    "\n",
    "accuracy = accuracy_score(y_test, predicciones_binarias)\n",
    "precision = precision_score(y_test, predicciones_binarias)\n",
    "recall = recall_score(y_test, predicciones_binarias)\n",
    "f1 = f1_score(y_test, predicciones_binarias)\n",
    "\n",
    "print(\"Accuracy:\", accuracy)\n",
    "print(\"Precisión:\", precision)\n",
    "print(\"Recall:\", recall)\n",
    "print(\"F1-Score:\", f1)"
   ]
  },
  {
   "cell_type": "markdown",
   "metadata": {},
   "source": [
    "Submit a kaggle"
   ]
  },
  {
   "cell_type": "code",
   "execution_count": 112,
   "metadata": {},
   "outputs": [
    {
     "name": "stdout",
     "output_type": "stream",
     "text": [
      "Model: \"sequential_47\"\n",
      "_________________________________________________________________\n",
      " Layer (type)                Output Shape              Param #   \n",
      "=================================================================\n",
      " dense_121 (Dense)           (None, 32)                1536      \n",
      "                                                                 \n",
      " dense_122 (Dense)           (None, 16)                528       \n",
      "                                                                 \n",
      " dropout_16 (Dropout)        (None, 16)                0         \n",
      "                                                                 \n",
      " dense_123 (Dense)           (None, 1)                 17        \n",
      "                                                                 \n",
      "=================================================================\n",
      "Total params: 2081 (8.13 KB)\n",
      "Trainable params: 2081 (8.13 KB)\n",
      "Non-trainable params: 0 (0.00 Byte)\n",
      "_________________________________________________________________\n"
     ]
    },
    {
     "name": "stdout",
     "output_type": "stream",
     "text": [
      "830/830 [==============================] - 0s 529us/step\n"
     ]
    }
   ],
   "source": [
    "d_in = ds_trabajo_x.shape[1]\n",
    "ds_trabajo_x = ds_trabajo_x.astype('float32')\n",
    "ds_trabajo_y = ds_trabajo_y.astype('float32')\n",
    "\n",
    "modelo2 = Sequential([\n",
    "    keras.layers.Dense(32, input_shape=(d_in,),activation='relu',kernel_regularizer=keras.regularizers.l2(0.01)),\n",
    "    keras.layers.Dense(16, activation='relu'),\n",
    "    keras.layers.Dropout(0.01),\n",
    "    keras.layers.Dense(cant_clases, activation='sigmoid')])\n",
    "\n",
    "modelo2.summary()\n",
    "\n",
    "modelo2.compile(\n",
    "  optimizer=tf.keras.optimizers.Adam(learning_rate=0.001),\n",
    "  loss='binary_crossentropy',\n",
    "  metrics=['accuracy']\n",
    ")\n",
    "\n",
    "cant_epochs=120\n",
    "\n",
    "modelo2.fit(ds_trabajo_x,ds_trabajo_y,\n",
    "                    epochs=cant_epochs,\n",
    "                    batch_size=50,verbose=False)\n",
    "\n",
    "dt_pred = data_test.drop(['id'], axis=1)\n",
    "dt_pred = dt_pred.astype('float32')\n",
    "\n",
    "y_pred = modelo2.predict(dt_pred)\n",
    "\n",
    "umbral = 0.5\n",
    "predicciones_binarias = [1 if p > umbral else 0 for p in y_pred]\n",
    "\n",
    "resultado = pd.DataFrame()\n",
    "resultado['id'] = data_test['id']\n",
    "resultado['is_canceled'] = predicciones_binarias\n",
    "#Comento esta linea para que no crear el archivo siempre\n",
    "resultado.to_csv('predicciones.csv', index=False)"
   ]
  },
  {
   "cell_type": "markdown",
   "metadata": {},
   "source": [
    "Buscamos hiperparametros con GridSearchCV"
   ]
  },
  {
   "cell_type": "code",
   "execution_count": null,
   "metadata": {},
   "outputs": [],
   "source": [
    "def create_model(optimizer='adam', neurons=32):\n",
    "    model = keras.Sequential([\n",
    "        keras.layers.Dense(neurons, activation='relu', input_shape=(d_in,)),\n",
    "        keras.layers.Dense(16, activation='relu'),\n",
    "        keras.layers.Dense(1, activation='sigmoid')\n",
    "    ])\n",
    "    model.compile(optimizer=optimizer, loss='binary_crossentropy', metrics=['accuracy'])\n",
    "    return model\n",
    "\n",
    "model = keras.KerasClassifier(build_fn=create_model, epochs=10, batch_size=50, verbose=0)\n",
    "param_grid = {'optimizer': ['adam', 'sgd'], 'neurons': [16,32, 64]}\n",
    "grid = GridSearchCV(estimator=model, param_grid=param_grid, cv=3)\n",
    "grid_result = grid.fit(X_train_scaled, y_train)"
   ]
  },
  {
   "cell_type": "code",
   "execution_count": 131,
   "metadata": {},
   "outputs": [
    {
     "name": "stdout",
     "output_type": "stream",
     "text": [
      "Model: \"sequential_51\"\n",
      "_________________________________________________________________\n",
      " Layer (type)                Output Shape              Param #   \n",
      "=================================================================\n",
      " dense_132 (Dense)           (None, 32)                1536      \n",
      "                                                                 \n",
      " dense_133 (Dense)           (None, 16)                528       \n",
      "                                                                 \n",
      " dense_134 (Dense)           (None, 1)                 17        \n",
      "                                                                 \n",
      "=================================================================\n",
      "Total params: 2081 (8.13 KB)\n",
      "Trainable params: 2081 (8.13 KB)\n",
      "Non-trainable params: 0 (0.00 Byte)\n",
      "_________________________________________________________________\n"
     ]
    },
    {
     "name": "stdout",
     "output_type": "stream",
     "text": [
      "Epoch 1/150\n",
      "767/767 [==============================] - 1s 781us/step - loss: 0.4535 - accuracy: 0.7882\n",
      "Epoch 2/150\n",
      "767/767 [==============================] - 1s 749us/step - loss: 0.3861 - accuracy: 0.8238\n",
      "Epoch 3/150\n",
      "767/767 [==============================] - 1s 798us/step - loss: 0.3698 - accuracy: 0.8307\n",
      "Epoch 4/150\n",
      "767/767 [==============================] - 1s 725us/step - loss: 0.3600 - accuracy: 0.8327\n",
      "Epoch 5/150\n",
      "767/767 [==============================] - 1s 753us/step - loss: 0.3521 - accuracy: 0.8382\n",
      "Epoch 6/150\n",
      "767/767 [==============================] - 1s 809us/step - loss: 0.3463 - accuracy: 0.8408\n",
      "Epoch 7/150\n",
      "767/767 [==============================] - 1s 760us/step - loss: 0.3416 - accuracy: 0.8428\n",
      "Epoch 8/150\n",
      "767/767 [==============================] - 1s 786us/step - loss: 0.3383 - accuracy: 0.8464\n",
      "Epoch 9/150\n",
      "767/767 [==============================] - 1s 781us/step - loss: 0.3351 - accuracy: 0.8472\n",
      "Epoch 10/150\n",
      "767/767 [==============================] - 1s 745us/step - loss: 0.3320 - accuracy: 0.8486\n",
      "Epoch 11/150\n",
      "767/767 [==============================] - 1s 764us/step - loss: 0.3302 - accuracy: 0.8488\n",
      "Epoch 12/150\n",
      "767/767 [==============================] - 1s 772us/step - loss: 0.3274 - accuracy: 0.8517\n",
      "Epoch 13/150\n",
      "767/767 [==============================] - 1s 781us/step - loss: 0.3252 - accuracy: 0.8530\n",
      "Epoch 14/150\n",
      "767/767 [==============================] - 1s 821us/step - loss: 0.3242 - accuracy: 0.8519\n",
      "Epoch 15/150\n",
      "767/767 [==============================] - 1s 741us/step - loss: 0.3219 - accuracy: 0.8546\n",
      "Epoch 16/150\n",
      "767/767 [==============================] - 1s 797us/step - loss: 0.3205 - accuracy: 0.8553\n",
      "Epoch 17/150\n",
      "767/767 [==============================] - 1s 778us/step - loss: 0.3189 - accuracy: 0.8561\n",
      "Epoch 18/150\n",
      "767/767 [==============================] - 1s 747us/step - loss: 0.3189 - accuracy: 0.8556\n",
      "Epoch 19/150\n",
      "767/767 [==============================] - 1s 780us/step - loss: 0.3173 - accuracy: 0.8557\n",
      "Epoch 20/150\n",
      "767/767 [==============================] - 1s 755us/step - loss: 0.3160 - accuracy: 0.8565\n",
      "Epoch 21/150\n",
      "767/767 [==============================] - 1s 757us/step - loss: 0.3152 - accuracy: 0.8577\n",
      "Epoch 22/150\n",
      "767/767 [==============================] - 1s 735us/step - loss: 0.3143 - accuracy: 0.8575\n",
      "Epoch 23/150\n",
      "767/767 [==============================] - 1s 749us/step - loss: 0.3137 - accuracy: 0.8572\n",
      "Epoch 24/150\n",
      "767/767 [==============================] - 1s 723us/step - loss: 0.3137 - accuracy: 0.8588\n",
      "Epoch 25/150\n",
      "767/767 [==============================] - 1s 791us/step - loss: 0.3123 - accuracy: 0.8595\n",
      "Epoch 26/150\n",
      "767/767 [==============================] - 1s 739us/step - loss: 0.3112 - accuracy: 0.8606\n",
      "Epoch 27/150\n",
      "767/767 [==============================] - 1s 803us/step - loss: 0.3112 - accuracy: 0.8586\n",
      "Epoch 28/150\n",
      "767/767 [==============================] - 1s 742us/step - loss: 0.3106 - accuracy: 0.8613\n",
      "Epoch 29/150\n",
      "767/767 [==============================] - 1s 824us/step - loss: 0.3106 - accuracy: 0.8597\n",
      "Epoch 30/150\n",
      "767/767 [==============================] - 1s 845us/step - loss: 0.3102 - accuracy: 0.8612\n",
      "Epoch 31/150\n",
      "767/767 [==============================] - 1s 762us/step - loss: 0.3088 - accuracy: 0.8617\n",
      "Epoch 32/150\n",
      "767/767 [==============================] - 1s 754us/step - loss: 0.3093 - accuracy: 0.8601\n",
      "Epoch 33/150\n",
      "767/767 [==============================] - 1s 746us/step - loss: 0.3079 - accuracy: 0.8630\n",
      "Epoch 34/150\n",
      "767/767 [==============================] - 1s 744us/step - loss: 0.3078 - accuracy: 0.8616\n",
      "Epoch 35/150\n",
      "767/767 [==============================] - 1s 782us/step - loss: 0.3065 - accuracy: 0.8616\n",
      "Epoch 36/150\n",
      "767/767 [==============================] - 1s 787us/step - loss: 0.3064 - accuracy: 0.8627\n",
      "Epoch 37/150\n",
      "767/767 [==============================] - 1s 774us/step - loss: 0.3066 - accuracy: 0.8611\n",
      "Epoch 38/150\n",
      "767/767 [==============================] - 1s 797us/step - loss: 0.3056 - accuracy: 0.8627\n",
      "Epoch 39/150\n",
      "767/767 [==============================] - 1s 767us/step - loss: 0.3053 - accuracy: 0.8641\n",
      "Epoch 40/150\n",
      "767/767 [==============================] - 1s 746us/step - loss: 0.3048 - accuracy: 0.8622\n",
      "Epoch 41/150\n",
      "767/767 [==============================] - 1s 790us/step - loss: 0.3044 - accuracy: 0.8634\n",
      "Epoch 42/150\n",
      "767/767 [==============================] - 1s 743us/step - loss: 0.3039 - accuracy: 0.8626\n",
      "Epoch 43/150\n",
      "767/767 [==============================] - 1s 749us/step - loss: 0.3035 - accuracy: 0.8634\n",
      "Epoch 44/150\n",
      "767/767 [==============================] - 1s 768us/step - loss: 0.3037 - accuracy: 0.8628\n",
      "Epoch 45/150\n",
      "767/767 [==============================] - 1s 819us/step - loss: 0.3031 - accuracy: 0.8649\n",
      "Epoch 46/150\n",
      "767/767 [==============================] - 1s 797us/step - loss: 0.3024 - accuracy: 0.8637\n",
      "Epoch 47/150\n",
      "767/767 [==============================] - 1s 833us/step - loss: 0.3023 - accuracy: 0.8631\n",
      "Epoch 48/150\n",
      "767/767 [==============================] - 1s 802us/step - loss: 0.3013 - accuracy: 0.8642\n",
      "Epoch 49/150\n",
      "767/767 [==============================] - 1s 826us/step - loss: 0.3020 - accuracy: 0.8658\n",
      "Epoch 50/150\n",
      "767/767 [==============================] - 1s 744us/step - loss: 0.3011 - accuracy: 0.8664\n",
      "Epoch 51/150\n",
      "767/767 [==============================] - 1s 789us/step - loss: 0.3019 - accuracy: 0.8642\n",
      "Epoch 52/150\n",
      "767/767 [==============================] - 1s 775us/step - loss: 0.3010 - accuracy: 0.8640\n",
      "Epoch 53/150\n",
      "767/767 [==============================] - 1s 810us/step - loss: 0.3018 - accuracy: 0.8640\n",
      "Epoch 54/150\n",
      "767/767 [==============================] - 1s 769us/step - loss: 0.3009 - accuracy: 0.8646\n",
      "Epoch 55/150\n",
      "767/767 [==============================] - 1s 812us/step - loss: 0.3001 - accuracy: 0.8646\n",
      "Epoch 56/150\n",
      "767/767 [==============================] - 1s 836us/step - loss: 0.3001 - accuracy: 0.8653\n",
      "Epoch 57/150\n",
      "767/767 [==============================] - 1s 814us/step - loss: 0.3000 - accuracy: 0.8647\n",
      "Epoch 58/150\n",
      "767/767 [==============================] - 1s 785us/step - loss: 0.2997 - accuracy: 0.8640\n",
      "Epoch 59/150\n",
      "767/767 [==============================] - 1s 801us/step - loss: 0.2991 - accuracy: 0.8666\n",
      "Epoch 60/150\n",
      "767/767 [==============================] - 1s 761us/step - loss: 0.2993 - accuracy: 0.8657\n",
      "Epoch 61/150\n",
      "767/767 [==============================] - 1s 728us/step - loss: 0.2986 - accuracy: 0.8679\n",
      "Epoch 62/150\n",
      "767/767 [==============================] - 1s 793us/step - loss: 0.2983 - accuracy: 0.8678\n",
      "Epoch 63/150\n",
      "767/767 [==============================] - 1s 778us/step - loss: 0.2982 - accuracy: 0.8663\n",
      "Epoch 64/150\n",
      "767/767 [==============================] - 1s 852us/step - loss: 0.2980 - accuracy: 0.8662\n",
      "Epoch 65/150\n",
      "767/767 [==============================] - 1s 766us/step - loss: 0.2979 - accuracy: 0.8675\n",
      "Epoch 66/150\n",
      "767/767 [==============================] - 1s 799us/step - loss: 0.2976 - accuracy: 0.8668\n",
      "Epoch 67/150\n",
      "767/767 [==============================] - 1s 760us/step - loss: 0.2982 - accuracy: 0.8666\n",
      "Epoch 68/150\n",
      "767/767 [==============================] - 1s 783us/step - loss: 0.2975 - accuracy: 0.8680\n",
      "Epoch 69/150\n",
      "767/767 [==============================] - 1s 793us/step - loss: 0.2975 - accuracy: 0.8670\n",
      "Epoch 70/150\n",
      "767/767 [==============================] - 1s 814us/step - loss: 0.2976 - accuracy: 0.8663\n",
      "Epoch 71/150\n",
      "767/767 [==============================] - 1s 781us/step - loss: 0.2973 - accuracy: 0.8660\n",
      "Epoch 72/150\n",
      "767/767 [==============================] - 1s 826us/step - loss: 0.2972 - accuracy: 0.8669\n",
      "Epoch 73/150\n",
      "767/767 [==============================] - 1s 812us/step - loss: 0.2968 - accuracy: 0.8672\n",
      "Epoch 74/150\n",
      "767/767 [==============================] - 1s 808us/step - loss: 0.2965 - accuracy: 0.8674\n",
      "Epoch 75/150\n",
      "767/767 [==============================] - 1s 803us/step - loss: 0.2974 - accuracy: 0.8669\n",
      "Epoch 76/150\n",
      "767/767 [==============================] - 1s 742us/step - loss: 0.2957 - accuracy: 0.8673\n",
      "Epoch 77/150\n",
      "767/767 [==============================] - 1s 759us/step - loss: 0.2969 - accuracy: 0.8669\n",
      "Epoch 78/150\n",
      "767/767 [==============================] - 1s 822us/step - loss: 0.2961 - accuracy: 0.8691\n",
      "Epoch 79/150\n",
      "767/767 [==============================] - 1s 803us/step - loss: 0.2969 - accuracy: 0.8669\n",
      "Epoch 80/150\n",
      "767/767 [==============================] - 1s 760us/step - loss: 0.2957 - accuracy: 0.8684\n",
      "Epoch 81/150\n",
      "767/767 [==============================] - 1s 783us/step - loss: 0.2954 - accuracy: 0.8675\n",
      "Epoch 82/150\n",
      "767/767 [==============================] - 1s 741us/step - loss: 0.2955 - accuracy: 0.8680\n",
      "Epoch 83/150\n",
      "767/767 [==============================] - 1s 838us/step - loss: 0.2962 - accuracy: 0.8690\n",
      "Epoch 84/150\n",
      "767/767 [==============================] - 1s 797us/step - loss: 0.2955 - accuracy: 0.8672\n",
      "Epoch 85/150\n",
      "767/767 [==============================] - 1s 779us/step - loss: 0.2957 - accuracy: 0.8686\n",
      "Epoch 86/150\n",
      "767/767 [==============================] - 1s 790us/step - loss: 0.2959 - accuracy: 0.8676\n",
      "Epoch 87/150\n",
      "767/767 [==============================] - 1s 831us/step - loss: 0.2949 - accuracy: 0.8677\n",
      "Epoch 88/150\n",
      "767/767 [==============================] - 1s 803us/step - loss: 0.2954 - accuracy: 0.8675\n",
      "Epoch 89/150\n",
      "767/767 [==============================] - 1s 772us/step - loss: 0.2943 - accuracy: 0.8682\n",
      "Epoch 90/150\n",
      "767/767 [==============================] - 1s 791us/step - loss: 0.2942 - accuracy: 0.8686\n",
      "Epoch 91/150\n",
      "767/767 [==============================] - 1s 789us/step - loss: 0.2949 - accuracy: 0.8686\n",
      "Epoch 92/150\n",
      "767/767 [==============================] - 1s 771us/step - loss: 0.2952 - accuracy: 0.8671\n",
      "Epoch 93/150\n",
      "767/767 [==============================] - 1s 742us/step - loss: 0.2942 - accuracy: 0.8686\n",
      "Epoch 94/150\n",
      "767/767 [==============================] - 1s 766us/step - loss: 0.2942 - accuracy: 0.8676\n",
      "Epoch 95/150\n",
      "767/767 [==============================] - 1s 738us/step - loss: 0.2937 - accuracy: 0.8689\n",
      "Epoch 96/150\n",
      "767/767 [==============================] - 1s 800us/step - loss: 0.2935 - accuracy: 0.8703\n",
      "Epoch 97/150\n",
      "767/767 [==============================] - 1s 772us/step - loss: 0.2935 - accuracy: 0.8690\n",
      "Epoch 98/150\n",
      "767/767 [==============================] - 1s 786us/step - loss: 0.2943 - accuracy: 0.8694\n",
      "Epoch 99/150\n",
      "767/767 [==============================] - 1s 748us/step - loss: 0.2936 - accuracy: 0.8706\n",
      "Epoch 100/150\n",
      "767/767 [==============================] - 1s 718us/step - loss: 0.2939 - accuracy: 0.8692\n",
      "Epoch 101/150\n",
      "767/767 [==============================] - 1s 774us/step - loss: 0.2937 - accuracy: 0.8679\n",
      "Epoch 102/150\n",
      "767/767 [==============================] - 1s 796us/step - loss: 0.2933 - accuracy: 0.8691\n",
      "Epoch 103/150\n",
      "767/767 [==============================] - 1s 800us/step - loss: 0.2932 - accuracy: 0.8697\n",
      "Epoch 104/150\n",
      "767/767 [==============================] - 1s 769us/step - loss: 0.2937 - accuracy: 0.8690\n",
      "Epoch 105/150\n",
      "767/767 [==============================] - 1s 839us/step - loss: 0.2941 - accuracy: 0.8685\n",
      "Epoch 106/150\n",
      "767/767 [==============================] - 1s 792us/step - loss: 0.2921 - accuracy: 0.8705\n",
      "Epoch 107/150\n",
      "767/767 [==============================] - 1s 771us/step - loss: 0.2927 - accuracy: 0.8702\n",
      "Epoch 108/150\n",
      "767/767 [==============================] - 1s 741us/step - loss: 0.2925 - accuracy: 0.8693\n",
      "Epoch 109/150\n",
      "767/767 [==============================] - 1s 797us/step - loss: 0.2928 - accuracy: 0.8711\n",
      "Epoch 110/150\n",
      "767/767 [==============================] - 1s 762us/step - loss: 0.2929 - accuracy: 0.8693\n",
      "Epoch 111/150\n",
      "767/767 [==============================] - 1s 755us/step - loss: 0.2921 - accuracy: 0.8702\n",
      "Epoch 112/150\n",
      "767/767 [==============================] - 1s 770us/step - loss: 0.2922 - accuracy: 0.8696\n",
      "Epoch 113/150\n",
      "767/767 [==============================] - 1s 785us/step - loss: 0.2919 - accuracy: 0.8694\n",
      "Epoch 114/150\n",
      "767/767 [==============================] - 1s 810us/step - loss: 0.2927 - accuracy: 0.8701\n",
      "Epoch 115/150\n",
      "767/767 [==============================] - 1s 803us/step - loss: 0.2909 - accuracy: 0.8709\n",
      "Epoch 116/150\n",
      "767/767 [==============================] - 1s 815us/step - loss: 0.2925 - accuracy: 0.8690\n",
      "Epoch 117/150\n",
      "767/767 [==============================] - 1s 729us/step - loss: 0.2920 - accuracy: 0.8698\n",
      "Epoch 118/150\n",
      "767/767 [==============================] - 1s 790us/step - loss: 0.2919 - accuracy: 0.8695\n",
      "Epoch 119/150\n",
      "767/767 [==============================] - 1s 777us/step - loss: 0.2916 - accuracy: 0.8699\n",
      "Epoch 120/150\n",
      "767/767 [==============================] - 1s 736us/step - loss: 0.2919 - accuracy: 0.8722\n",
      "Epoch 121/150\n",
      "767/767 [==============================] - 1s 793us/step - loss: 0.2916 - accuracy: 0.8703\n",
      "Epoch 122/150\n",
      "767/767 [==============================] - 1s 767us/step - loss: 0.2919 - accuracy: 0.8691\n",
      "Epoch 123/150\n",
      "767/767 [==============================] - 1s 766us/step - loss: 0.2916 - accuracy: 0.8704\n",
      "Epoch 124/150\n",
      "767/767 [==============================] - 1s 752us/step - loss: 0.2909 - accuracy: 0.8718\n",
      "Epoch 125/150\n",
      "767/767 [==============================] - 1s 793us/step - loss: 0.2910 - accuracy: 0.8699\n",
      "Epoch 126/150\n",
      "767/767 [==============================] - 1s 847us/step - loss: 0.2908 - accuracy: 0.8701\n",
      "Epoch 127/150\n",
      "767/767 [==============================] - 1s 750us/step - loss: 0.2915 - accuracy: 0.8709\n",
      "Epoch 128/150\n",
      "767/767 [==============================] - 1s 785us/step - loss: 0.2906 - accuracy: 0.8701\n",
      "Epoch 129/150\n",
      "767/767 [==============================] - 1s 834us/step - loss: 0.2909 - accuracy: 0.8717\n",
      "Epoch 130/150\n",
      "767/767 [==============================] - 1s 782us/step - loss: 0.2905 - accuracy: 0.8702\n",
      "Epoch 131/150\n",
      "767/767 [==============================] - 1s 779us/step - loss: 0.2919 - accuracy: 0.8693\n",
      "Epoch 132/150\n",
      "767/767 [==============================] - 1s 789us/step - loss: 0.2910 - accuracy: 0.8712\n",
      "Epoch 133/150\n",
      "767/767 [==============================] - 1s 779us/step - loss: 0.2910 - accuracy: 0.8708\n",
      "Epoch 134/150\n",
      "767/767 [==============================] - 1s 731us/step - loss: 0.2910 - accuracy: 0.8708\n",
      "Epoch 135/150\n",
      "767/767 [==============================] - 1s 860us/step - loss: 0.2907 - accuracy: 0.8706\n",
      "Epoch 136/150\n",
      "767/767 [==============================] - 1s 770us/step - loss: 0.2908 - accuracy: 0.8712\n",
      "Epoch 137/150\n",
      "767/767 [==============================] - 1s 814us/step - loss: 0.2910 - accuracy: 0.8709\n",
      "Epoch 138/150\n",
      "767/767 [==============================] - 1s 739us/step - loss: 0.2899 - accuracy: 0.8711\n",
      "Epoch 139/150\n",
      "767/767 [==============================] - 1s 789us/step - loss: 0.2903 - accuracy: 0.8711\n",
      "Epoch 140/150\n",
      "767/767 [==============================] - 1s 752us/step - loss: 0.2902 - accuracy: 0.8720\n",
      "Epoch 141/150\n",
      "767/767 [==============================] - 1s 816us/step - loss: 0.2895 - accuracy: 0.8723\n",
      "Epoch 142/150\n",
      "767/767 [==============================] - 1s 751us/step - loss: 0.2908 - accuracy: 0.8705\n",
      "Epoch 143/150\n",
      "767/767 [==============================] - 1s 856us/step - loss: 0.2899 - accuracy: 0.8701\n",
      "Epoch 144/150\n",
      "767/767 [==============================] - 1s 818us/step - loss: 0.2911 - accuracy: 0.8714\n",
      "Epoch 145/150\n",
      "767/767 [==============================] - 1s 750us/step - loss: 0.2896 - accuracy: 0.8711\n",
      "Epoch 146/150\n",
      "767/767 [==============================] - 1s 803us/step - loss: 0.2904 - accuracy: 0.8721\n",
      "Epoch 147/150\n",
      "767/767 [==============================] - 1s 813us/step - loss: 0.2905 - accuracy: 0.8715\n",
      "Epoch 148/150\n",
      "767/767 [==============================] - 1s 766us/step - loss: 0.2899 - accuracy: 0.8721\n",
      "Epoch 149/150\n",
      "767/767 [==============================] - 1s 757us/step - loss: 0.2889 - accuracy: 0.8716\n",
      "Epoch 150/150\n",
      "767/767 [==============================] - 1s 770us/step - loss: 0.2898 - accuracy: 0.8714\n"
     ]
    }
   ],
   "source": [
    "modelo3 = Sequential([\n",
    "    keras.layers.Dense(32, input_shape=(d_in,),activation='relu',kernel_regularizer=keras.regularizers.l2(0.001)),\n",
    "    keras.layers.Dense(16, activation='relu'),\n",
    "    keras.layers.Dense(cant_clases, activation='sigmoid')])\n",
    "\n",
    "modelo3.summary()\n",
    "\n",
    "modelo3.compile(\n",
    "  optimizer=tf.keras.optimizers.Adam(learning_rate=0.001),\n",
    "  loss='binary_crossentropy',\n",
    "  metrics=['accuracy']\n",
    ")\n",
    "\n",
    "cant_epochs=150\n",
    "\n",
    "modelo_h3 = modelo3.fit(X_train_scaled,y_train,\n",
    "                    epochs=cant_epochs,\n",
    "                    batch_size=50,verbose='auto')"
   ]
  },
  {
   "cell_type": "code",
   "execution_count": 66,
   "metadata": {},
   "outputs": [
    {
     "name": "stdout",
     "output_type": "stream",
     "text": [
      "  1/514 [..............................] - ETA: 17s"
     ]
    },
    {
     "name": "stdout",
     "output_type": "stream",
     "text": [
      "514/514 [==============================] - 0s 533us/step\n"
     ]
    },
    {
     "data": {
      "image/png": "[encoded data removed]",
      "text/plain": [
       "<Figure size 800x600 with 2 Axes>"
      ]
     },
     "metadata": {},
     "output_type": "display_data"
    }
   ],
   "source": [
    "predicciones = modelo3.predict(X_test_scaled)\n",
    "umbral = 0.5\n",
    "predicciones_binarias = (predicciones > umbral).astype(int)\n",
    "\n",
    "cm = confusion_matrix(y_test, predicciones_binarias)\n",
    "\n",
    "plt.figure(figsize=(8, 6))\n",
    "sns.heatmap(cm, annot=True, fmt=\"d\", cmap=\"Blues\")\n",
    "plt.xlabel(\"Predicción\")\n",
    "plt.ylabel(\"Real\")\n",
    "plt.title(\"Matriz de Confusión\")\n",
    "plt.show()"
   ]
  },
  {
   "cell_type": "code",
   "execution_count": 67,
   "metadata": {},
   "outputs": [
    {
     "data": {
      "image/png": "[encoded data removed]",
      "text/plain": [
       "<Figure size 640x480 with 1 Axes>"
      ]
     },
     "metadata": {},
     "output_type": "display_data"
    }
   ],
   "source": [
    "plt.plot(modelo_h3.history['accuracy'])\n",
    "plt.title('Model Accuracy')\n",
    "plt.ylabel('accuracy')\n",
    "plt.xlabel('Epoch')\n",
    "plt.legend(['Train'], loc='upper left')\n",
    "plt.show()"
   ]
  },
  {
   "cell_type": "code",
   "execution_count": 68,
   "metadata": {},
   "outputs": [
    {
     "name": "stdout",
     "output_type": "stream",
     "text": [
      "514/514 [==============================] - 0s 634us/step - loss: 0.3385 - accuracy: 0.8543\n",
      "Pérdida en prueba: 0.338545560836792\n",
      "Precisión en prueba: 0.8542808294296265\n"
     ]
    }
   ],
   "source": [
    "test_loss, test_accuracy = modelo3.evaluate(X_test_scaled, y_test)\n",
    "print(f'Pérdida en prueba: {test_loss}')\n",
    "print(f'Precisión en prueba: {test_accuracy}')"
   ]
  },
  {
   "cell_type": "code",
   "execution_count": 69,
   "metadata": {},
   "outputs": [
    {
     "name": "stdout",
     "output_type": "stream",
     "text": [
      "  1/514 [..............................] - ETA: 8s"
     ]
    },
    {
     "name": "stdout",
     "output_type": "stream",
     "text": [
      "514/514 [==============================] - 0s 529us/step\n",
      "Accuracy: 0.8542808427718913\n",
      "Precisión: 0.8650144672285822\n",
      "Recall: 0.8389458272327965\n",
      "F1-Score: 0.8517807370703003\n"
     ]
    }
   ],
   "source": [
    "predicciones = modelo3.predict(X_test_scaled)\n",
    "\n",
    "umbral = 0.5\n",
    "predicciones_binarias = [1 if p > umbral else 0 for p in predicciones]\n",
    "\n",
    "accuracy = accuracy_score(y_test, predicciones_binarias)\n",
    "precision = precision_score(y_test, predicciones_binarias)\n",
    "recall = recall_score(y_test, predicciones_binarias)\n",
    "f1 = f1_score(y_test, predicciones_binarias)\n",
    "\n",
    "print(\"Accuracy:\", accuracy)\n",
    "print(\"Precisión:\", precision)\n",
    "print(\"Recall:\", recall)\n",
    "print(\"F1-Score:\", f1)"
   ]
  },
  {
   "cell_type": "code",
   "execution_count": 109,
   "metadata": {},
   "outputs": [
    {
     "name": "stdout",
     "output_type": "stream",
     "text": [
      "Model: \"sequential_46\"\n",
      "_________________________________________________________________\n",
      " Layer (type)                Output Shape              Param #   \n",
      "=================================================================\n",
      " dense_118 (Dense)           (None, 32)                1536      \n",
      "                                                                 \n",
      " dense_119 (Dense)           (None, 16)                528       \n",
      "                                                                 \n",
      " dense_120 (Dense)           (None, 1)                 17        \n",
      "                                                                 \n",
      "=================================================================\n",
      "Total params: 2081 (8.13 KB)\n",
      "Trainable params: 2081 (8.13 KB)\n",
      "Non-trainable params: 0 (0.00 Byte)\n",
      "_________________________________________________________________\n",
      "830/830 [==============================] - 0s 547us/step\n"
     ]
    }
   ],
   "source": [
    "d_in = ds_trabajo_x.shape[1]\n",
    "ds_trabajo_x = ds_trabajo_x.astype('float32')\n",
    "ds_trabajo_y = ds_trabajo_y.astype('float32')\n",
    "\n",
    "modelo3 = Sequential([\n",
    "    keras.layers.Dense(32, input_shape=(d_in,),activation='relu',kernel_regularizer=keras.regularizers.l2(0.001)),\n",
    "    keras.layers.Dense(16, activation='relu'),\n",
    "    keras.layers.Dense(cant_clases, activation='sigmoid')])\n",
    "\n",
    "modelo3.summary()\n",
    "\n",
    "modelo3.compile(\n",
    "  optimizer=tf.keras.optimizers.Adam(learning_rate=0.001),\n",
    "  loss='binary_crossentropy',\n",
    "  metrics=['accuracy']\n",
    ")\n",
    "\n",
    "cant_epochs=150\n",
    "\n",
    "modelo3.fit(ds_trabajo_x,ds_trabajo_y,\n",
    "                    epochs=cant_epochs,\n",
    "                    batch_size=50,verbose=False)\n",
    "\n",
    "dt_pred = data_test.drop(['id'], axis=1)\n",
    "dt_pred = dt_pred.astype('float32')\n",
    "\n",
    "y_pred = modelo3.predict(dt_pred)\n",
    "\n",
    "umbral = 0.5\n",
    "predicciones_binarias = [1 if p > umbral else 0 for p in y_pred]\n",
    "\n",
    "resultado = pd.DataFrame()\n",
    "resultado['id'] = data_test['id']\n",
    "resultado['is_canceled'] = predicciones_binarias\n",
    "#Comento esta linea para que no crear el archivo siempre\n",
    "resultado.to_csv('predicciones.csv', index=False)"
   ]
  }
 ],
 "metadata": {
  "kernelspec": {
   "display_name": "Python 3",
   "language": "python",
   "name": "python3"
  },
  "language_info": {
   "codemirror_mode": {
    "name": "ipython",
    "version": 3
   },
   "file_extension": ".py",
   "mimetype": "text/x-python",
   "name": "python",
   "nbconvert_exporter": "python",
   "pygments_lexer": "ipython3",
   "version": "3.10.12"
  }
 },
 "nbformat": 4,
 "nbformat_minor": 2
}
