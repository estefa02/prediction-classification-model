{
 "cells": [
  {
   "cell_type": "code",
   "execution_count": null,
   "metadata": {},
   "outputs": [],
   "source": [
    "#Manipulacion de datos y funciones matemáticas\n",
    "import pandas as pd\n",
    "import numpy as np\n",
    "\n",
    "#Redes neuronales\n",
    "import tensorflow as tf\n",
    "from tensorflow import keras\n",
    "from keras.models import Sequential\n",
    "from keras.preprocessing.text import Tokenizer\n",
    "from keras.preprocessing.sequence import pad_sequences\n",
    "from keras.layers import Embedding, Bidirectional, LSTM, Dense\n",
    "from sklearn.model_selection import train_test_split\n",
    "from sklearn.feature_extraction.text import TfidfVectorizer\n",
    "from nltk.corpus import stopwords\n",
    "from nltk.tokenize import word_tokenize\n",
    "import re\n",
    "from spacy.lang.es import STOP_WORDS\n",
    "\n",
    "# Cargar datos\n",
    "data = pd.read_csv('./Datasets/train.csv')\n",
    "data_test = pd.read_csv('./Datasets/test.csv')"
   ]
  },
  {
   "cell_type": "code",
   "execution_count": null,
   "metadata": {},
   "outputs": [],
   "source": [
    "# Convertir sentimientos a valores binarios\n",
    "data['bool_sentimiento'] = (data['sentimiento'] == 'positivo').astype(int)\n",
    "\n",
    "# Separar datos\n",
    "x_train, x_test, y_train, y_test = train_test_split(data['review_es'], data['bool_sentimiento'], test_size=0.3, random_state=30)"
   ]
  },
  {
   "cell_type": "code",
   "execution_count": null,
   "metadata": {},
   "outputs": [],
   "source": [
    "# Tokenización y Padding\n",
    "tokenizer = Tokenizer()\n",
    "tokenizer.fit_on_texts(x_train)\n",
    "x_train_seq = tokenizer.texts_to_sequences(x_train)\n",
    "x_test_seq = tokenizer.texts_to_sequences(x_test)\n",
    "\n",
    "max_length = max(len(seq) for seq in x_train_seq)\n",
    "x_train_pad = pad_sequences(x_train_seq, maxlen=max_length, padding='post')\n",
    "x_test_pad = pad_sequences(x_test_seq, maxlen=max_length, padding='post')\n",
    "\n"
   ]
  },
  {
   "cell_type": "code",
   "execution_count": 17,
   "metadata": {},
   "outputs": [
    {
     "name": "stdout",
     "output_type": "stream",
     "text": [
      "1094/1094 [==============================] - 1987s 2s/step - loss: 0.5525 - accuracy: 0.7233 - val_loss: 0.4368 - val_accuracy: 0.8100\n",
      "469/469 [==============================] - 103s 219ms/step - loss: 0.4368 - accuracy: 0.8100\n",
      "Precisión del modelo: 81.00%\n",
      "469/469 [==============================] - 103s 217ms/step\n"
     ]
    }
   ],
   "source": [
    "# Creación del modelo\n",
    "modelo = Sequential()\n",
    "modelo.add(Embedding(input_dim=len(tokenizer.word_index) + 1, output_dim=100, input_length=max_length))\n",
    "modelo.add(Bidirectional(LSTM(32, return_sequences=True)))\n",
    "modelo.add(Bidirectional(LSTM(16)))\n",
    "modelo.add(Dense(1, activation='sigmoid'))  # Usar 'sigmoid' para clasificación binaria\n",
    "\n",
    "# Compilación del modelo\n",
    "modelo.compile(optimizer='adam', loss='binary_crossentropy', metrics=['accuracy'])\n",
    "\n",
    "# Entrenamiento del modelo\n",
    "modelo.fit(x_train_pad, y_train, epochs=1, batch_size=32, validation_data=(x_test_pad, y_test))\n",
    "\n",
    "# Evaluación del modelo\n",
    "resultados = modelo.evaluate(x_test_pad, y_test)\n",
    "print(f\"Precisión del modelo: {resultados[1]*100:.2f}%\")\n",
    "\n",
    "# Predicción con el modelo\n",
    "predicciones = modelo.predict(x_test_pad)\n"
   ]
  },
  {
   "cell_type": "code",
   "execution_count": null,
   "metadata": {},
   "outputs": [],
   "source": [
    "\"\"\" predicciones = modelo.predict(x_test_pad)\n",
    "\n",
    "umbral = 0.5\n",
    "predicciones_binarias = [1 if p > umbral else 0 for p in predicciones]\n",
    "\n",
    "accuracy = accuracy_score(y_test, predicciones_binarias)\n",
    "precision = precision_score(y_test, predicciones_binarias)\n",
    "recall = recall_score(y_test, predicciones_binarias)\n",
    "f1 = f1_score(y_test, predicciones_binarias)\n",
    "\n",
    "print(\"Accuracy:\", accuracy)\n",
    "print(\"Precisión:\", precision)\n",
    "print(\"Recall:\", recall)\n",
    "print(\"F1-Score:\", f1) \"\"\""
   ]
  }
 ],
 "metadata": {
  "kernelspec": {
   "display_name": "Python 3",
   "language": "python",
   "name": "python3"
  },
  "language_info": {
   "codemirror_mode": {
    "name": "ipython",
    "version": 3
   },
   "file_extension": ".py",
   "mimetype": "text/x-python",
   "name": "python",
   "nbconvert_exporter": "python",
   "pygments_lexer": "ipython3",
   "version": "3.10.12"
  }
 },
 "nbformat": 4,
 "nbformat_minor": 2
}
